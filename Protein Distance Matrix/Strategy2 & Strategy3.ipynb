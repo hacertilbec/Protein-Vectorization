{
 "cells": [
  {
   "cell_type": "code",
   "execution_count": 1,
   "metadata": {},
   "outputs": [],
   "source": [
    "import numpy as np\n",
    "import os\n",
    "import random\n",
    "from math import ceil, floor"
   ]
  },
  {
   "cell_type": "markdown",
   "metadata": {},
   "source": [
    "Strategy 2: Unlike the strategy 1 yielding a single 256×256 matrix,\n",
    "we tried an ensemble-based strategy, which yields __multiple matrices rather than\n",
    "a single one__. These matrices were fed into DCNN, and the average results were\n",
    "calculated. Here, the number of __ensemble matrices was set to be proportional to\n",
    "the length of query protein__."
   ]
  },
  {
   "cell_type": "code",
   "execution_count": 2,
   "metadata": {},
   "outputs": [
    {
     "data": {
      "text/plain": [
       "array([[[1, 2, 3, 4, 5, 6, 7],\n",
       "        [1, 2, 8, 4, 5, 6, 7],\n",
       "        [1, 2, 3, 4, 5, 6, 7],\n",
       "        [1, 2, 9, 4, 5, 6, 7],\n",
       "        [1, 2, 3, 4, 5, 6, 7],\n",
       "        [1, 8, 3, 4, 5, 6, 7],\n",
       "        [1, 2, 3, 4, 5, 6, 7]],\n",
       "\n",
       "       [[1, 2, 3, 4, 5, 6, 7],\n",
       "        [1, 2, 8, 4, 5, 6, 7],\n",
       "        [1, 2, 3, 4, 5, 6, 7],\n",
       "        [1, 2, 9, 4, 5, 6, 7],\n",
       "        [1, 2, 3, 4, 5, 6, 7],\n",
       "        [1, 8, 3, 4, 5, 6, 7],\n",
       "        [1, 2, 3, 4, 5, 6, 7]]])"
      ]
     },
     "execution_count": 2,
     "metadata": {},
     "output_type": "execute_result"
    }
   ],
   "source": [
    "# Sampling: For a protein with length over 256, they randomly sampled a 256×256\n",
    "# sub-matrix from its contact likelihood matrix. They repeated this procedure\n",
    "# multiple times and obtained an ensemble\n",
    "\n",
    "def sampling(distance_matrix, new_shape=(64,64), sample_size=None):\n",
    "    if not sample_size:\n",
    "        sample_size = int(floor((distance_matrix.shape[0]/new_shape[0])))*2 # Here, the number of ensemble matrices \n",
    "    ensemble = []                                              # was set to be proportional to the length of query protein\n",
    "    for sample in range(sample_size):\n",
    "        sampled_matrix = []\n",
    "        x,y = random.randint(0,len(distance_matrix)-new_shape[0]), random.randint(0,len(distance_matrix)-new_shape[0])\n",
    "        for i in range(x,x+new_shape[0]):\n",
    "            sampled_matrix.append(distance_matrix[i][y:y+new_shape[0]])\n",
    "        ensemble.append(sampled_matrix)\n",
    "    return(np.array(ensemble))\n",
    "\n",
    "sampling(np.array([[1,2,3,4,5,6,7,8],\n",
    "         [1,2,3,4,5,6,7,8],\n",
    "         [1,2,8,4,5,6,7,8],\n",
    "         [1,2,3,4,5,6,7,8],\n",
    "         [1,2,9,4,5,6,7,8],\n",
    "         [1,2,3,4,5,6,7,8],\n",
    "         [1,8,3,4,5,6,7,8],\n",
    "         [1,2,3,4,5,6,7,8]]), new_shape=(7,7))"
   ]
  },
  {
   "cell_type": "code",
   "execution_count": 25,
   "metadata": {},
   "outputs": [
    {
     "data": {
      "text/plain": [
       "array([[[0, 0, 0, 0, 0, 3, 3, 3],\n",
       "        [0, 0, 0, 0, 0, 3, 3, 3],\n",
       "        [0, 0, 0, 0, 0, 3, 3, 3],\n",
       "        [0, 0, 0, 0, 0, 0, 0, 0],\n",
       "        [0, 0, 0, 0, 0, 0, 0, 0],\n",
       "        [0, 0, 0, 0, 0, 0, 0, 0],\n",
       "        [0, 0, 0, 0, 0, 0, 0, 0],\n",
       "        [0, 0, 0, 0, 0, 0, 0, 0]],\n",
       "\n",
       "       [[0, 0, 0, 0, 0, 0, 0, 0],\n",
       "        [0, 0, 0, 0, 0, 0, 0, 0],\n",
       "        [0, 0, 0, 0, 0, 3, 3, 3],\n",
       "        [0, 0, 0, 0, 0, 3, 3, 3],\n",
       "        [0, 0, 0, 0, 0, 3, 3, 3],\n",
       "        [0, 0, 0, 0, 0, 0, 0, 0],\n",
       "        [0, 0, 0, 0, 0, 0, 0, 0],\n",
       "        [0, 0, 0, 0, 0, 0, 0, 0]]])"
      ]
     },
     "execution_count": 25,
     "metadata": {},
     "output_type": "execute_result"
    }
   ],
   "source": [
    "# Padding: For a protein with length smaller than 256, we embedded its contact\n",
    "# matrix into a 256 × 256 matrix with all elements being 0. The embedding\n",
    "# positions are random; thus, we obtained an ensemble of 256 × 256 matrices\n",
    "# after repeating this operation multiple times.\n",
    "\n",
    "def padding(distance_matrix, new_shape=(64,64), sample_size=None):\n",
    "    if not sample_size:\n",
    "        sample_size = int(ceil((distance_matrix.shape[0]/new_shape[0])))*2 # Here, the number of ensemble matrices \n",
    "    ensemble = []                                                       # was set to be proportional to the\n",
    "    for sample in range(sample_size):                                   # length of query protein\n",
    "        sampled_matrix = [[0 for i in range(new_shape[0])] for i in range(new_shape[0])]\n",
    "        x,y = random.randint(0,len(sampled_matrix)-len(distance_matrix)), random.randint(0,len(sampled_matrix)-len(distance_matrix))\n",
    "        s = 0\n",
    "        for i in range(x,x+len(distance_matrix)):\n",
    "            sampled_matrix[i][y:y+len(distance_matrix)] = distance_matrix[s][:]\n",
    "            s+=1\n",
    "        ensemble.append(sampled_matrix)\n",
    "    return(np.array(ensemble))\n",
    "\n",
    "padding(np.array([[3,3,3],[3,3,3],[3,3,3]]), new_shape=(8,8))"
   ]
  },
  {
   "cell_type": "code",
   "execution_count": 2,
   "metadata": {},
   "outputs": [
    {
     "data": {
      "text/plain": [
       "array([[[1., 2., 3., 4., 5., 6.],\n",
       "        [1., 2., 3., 4., 5., 6.],\n",
       "        [1., 2., 8., 4., 5., 6.],\n",
       "        [1., 2., 3., 4., 5., 6.],\n",
       "        [1., 2., 9., 4., 5., 6.],\n",
       "        [1., 2., 3., 4., 5., 6.]],\n",
       "\n",
       "       [[7., 8., 0., 0., 0., 0.],\n",
       "        [7., 8., 0., 0., 0., 0.],\n",
       "        [7., 8., 0., 0., 0., 0.],\n",
       "        [7., 8., 0., 0., 0., 0.],\n",
       "        [7., 8., 0., 0., 0., 0.],\n",
       "        [7., 8., 0., 0., 0., 0.]],\n",
       "\n",
       "       [[1., 8., 3., 4., 5., 6.],\n",
       "        [1., 2., 3., 4., 5., 6.],\n",
       "        [0., 0., 0., 0., 0., 0.],\n",
       "        [0., 0., 0., 0., 0., 0.],\n",
       "        [0., 0., 0., 0., 0., 0.],\n",
       "        [0., 0., 0., 0., 0., 0.]],\n",
       "\n",
       "       [[7., 8., 0., 0., 0., 0.],\n",
       "        [7., 8., 0., 0., 0., 0.],\n",
       "        [0., 0., 0., 0., 0., 0.],\n",
       "        [0., 0., 0., 0., 0., 0.],\n",
       "        [0., 0., 0., 0., 0., 0.],\n",
       "        [0., 0., 0., 0., 0., 0.]]])"
      ]
     },
     "execution_count": 2,
     "metadata": {},
     "output_type": "execute_result"
    }
   ],
   "source": [
    "# Strategy 3, Sampling\n",
    "# stride lenght = new_shape[0]\n",
    "\n",
    "def sampling_s3(distance_matrix, new_shape=(64,64)):\n",
    "    ensemble = []  \n",
    "    filter_s=new_shape[0]\n",
    "    step = ceil(distance_matrix.shape[0]/filter_s)\n",
    "    for i in range(step):\n",
    "        for j in range(step):\n",
    "            part = np.array(distance_matrix[i*filter_s:(i+1)*filter_s,j*filter_s:(j+1)*filter_s])\n",
    "            sample = np.zeros((filter_s,filter_s))\n",
    "            sample[0:part.shape[0], 0:part.shape[1]] = part\n",
    "            ensemble.append(sample)\n",
    "    return(np.array(ensemble))\n",
    "\n",
    "sampling_s3(np.array([[1,2,3,4,5,6,7,8],\n",
    "         [1,2,3,4,5,6,7,8],\n",
    "         [1,2,8,4,5,6,7,8],\n",
    "         [1,2,3,4,5,6,7,8],\n",
    "         [1,2,9,4,5,6,7,8],\n",
    "         [1,2,3,4,5,6,7,8],\n",
    "         [1,8,3,4,5,6,7,8],\n",
    "         [1,2,3,4,5,6,7,8]]), new_shape=(6,6))"
   ]
  },
  {
   "cell_type": "code",
   "execution_count": 34,
   "metadata": {},
   "outputs": [
    {
     "data": {
      "text/plain": [
       "array([[[3., 3., 3., 0., 0., 0., 0., 0.],\n",
       "        [3., 3., 3., 0., 0., 0., 0., 0.],\n",
       "        [3., 3., 3., 0., 0., 0., 0., 0.],\n",
       "        [0., 0., 0., 0., 0., 0., 0., 0.],\n",
       "        [0., 0., 0., 0., 0., 0., 0., 0.],\n",
       "        [0., 0., 0., 0., 0., 0., 0., 0.],\n",
       "        [0., 0., 0., 0., 0., 0., 0., 0.],\n",
       "        [0., 0., 0., 0., 0., 0., 0., 0.]],\n",
       "\n",
       "       [[0., 0., 0., 3., 3., 3., 0., 0.],\n",
       "        [0., 0., 0., 3., 3., 3., 0., 0.],\n",
       "        [0., 0., 0., 3., 3., 3., 0., 0.],\n",
       "        [0., 0., 0., 0., 0., 0., 0., 0.],\n",
       "        [0., 0., 0., 0., 0., 0., 0., 0.],\n",
       "        [0., 0., 0., 0., 0., 0., 0., 0.],\n",
       "        [0., 0., 0., 0., 0., 0., 0., 0.],\n",
       "        [0., 0., 0., 0., 0., 0., 0., 0.]],\n",
       "\n",
       "       [[0., 0., 0., 0., 0., 0., 3., 3.],\n",
       "        [0., 0., 0., 0., 0., 0., 3., 3.],\n",
       "        [0., 0., 0., 0., 0., 0., 3., 3.],\n",
       "        [0., 0., 0., 0., 0., 0., 0., 0.],\n",
       "        [0., 0., 0., 0., 0., 0., 0., 0.],\n",
       "        [0., 0., 0., 0., 0., 0., 0., 0.],\n",
       "        [0., 0., 0., 0., 0., 0., 0., 0.],\n",
       "        [0., 0., 0., 0., 0., 0., 0., 0.]],\n",
       "\n",
       "       [[0., 0., 0., 0., 0., 0., 0., 0.],\n",
       "        [0., 0., 0., 0., 0., 0., 0., 0.],\n",
       "        [0., 0., 0., 0., 0., 0., 0., 0.],\n",
       "        [3., 3., 3., 0., 0., 0., 0., 0.],\n",
       "        [3., 3., 3., 0., 0., 0., 0., 0.],\n",
       "        [3., 3., 3., 0., 0., 0., 0., 0.],\n",
       "        [0., 0., 0., 0., 0., 0., 0., 0.],\n",
       "        [0., 0., 0., 0., 0., 0., 0., 0.]],\n",
       "\n",
       "       [[0., 0., 0., 0., 0., 0., 0., 0.],\n",
       "        [0., 0., 0., 0., 0., 0., 0., 0.],\n",
       "        [0., 0., 0., 0., 0., 0., 0., 0.],\n",
       "        [0., 0., 0., 3., 3., 3., 0., 0.],\n",
       "        [0., 0., 0., 3., 3., 3., 0., 0.],\n",
       "        [0., 0., 0., 3., 3., 3., 0., 0.],\n",
       "        [0., 0., 0., 0., 0., 0., 0., 0.],\n",
       "        [0., 0., 0., 0., 0., 0., 0., 0.]],\n",
       "\n",
       "       [[0., 0., 0., 0., 0., 0., 0., 0.],\n",
       "        [0., 0., 0., 0., 0., 0., 0., 0.],\n",
       "        [0., 0., 0., 0., 0., 0., 0., 0.],\n",
       "        [0., 0., 0., 0., 0., 0., 3., 3.],\n",
       "        [0., 0., 0., 0., 0., 0., 3., 3.],\n",
       "        [0., 0., 0., 0., 0., 0., 3., 3.],\n",
       "        [0., 0., 0., 0., 0., 0., 0., 0.],\n",
       "        [0., 0., 0., 0., 0., 0., 0., 0.]],\n",
       "\n",
       "       [[0., 0., 0., 0., 0., 0., 0., 0.],\n",
       "        [0., 0., 0., 0., 0., 0., 0., 0.],\n",
       "        [0., 0., 0., 0., 0., 0., 0., 0.],\n",
       "        [0., 0., 0., 0., 0., 0., 0., 0.],\n",
       "        [0., 0., 0., 0., 0., 0., 0., 0.],\n",
       "        [0., 0., 0., 0., 0., 0., 0., 0.],\n",
       "        [3., 3., 3., 0., 0., 0., 0., 0.],\n",
       "        [3., 3., 3., 0., 0., 0., 0., 0.]],\n",
       "\n",
       "       [[0., 0., 0., 0., 0., 0., 0., 0.],\n",
       "        [0., 0., 0., 0., 0., 0., 0., 0.],\n",
       "        [0., 0., 0., 0., 0., 0., 0., 0.],\n",
       "        [0., 0., 0., 0., 0., 0., 0., 0.],\n",
       "        [0., 0., 0., 0., 0., 0., 0., 0.],\n",
       "        [0., 0., 0., 0., 0., 0., 0., 0.],\n",
       "        [0., 0., 0., 3., 3., 3., 0., 0.],\n",
       "        [0., 0., 0., 3., 3., 3., 0., 0.]],\n",
       "\n",
       "       [[0., 0., 0., 0., 0., 0., 0., 0.],\n",
       "        [0., 0., 0., 0., 0., 0., 0., 0.],\n",
       "        [0., 0., 0., 0., 0., 0., 0., 0.],\n",
       "        [0., 0., 0., 0., 0., 0., 0., 0.],\n",
       "        [0., 0., 0., 0., 0., 0., 0., 0.],\n",
       "        [0., 0., 0., 0., 0., 0., 0., 0.],\n",
       "        [0., 0., 0., 0., 0., 0., 3., 3.],\n",
       "        [0., 0., 0., 0., 0., 0., 3., 3.]]])"
      ]
     },
     "execution_count": 34,
     "metadata": {},
     "output_type": "execute_result"
    }
   ],
   "source": [
    "# Strategy 3, Padding\n",
    "# stride lenght = distance_matrix[0]\n",
    "\n",
    "def padding_s3(distance_matrix, new_shape=(64,64)):\n",
    "    ensemble = []  \n",
    "    filter_s=distance_matrix.shape[0]\n",
    "    step = ceil(new_shape[0]/distance_matrix.shape[0])\n",
    "    for i in range(step):\n",
    "        for j in range(step):\n",
    "            sample = np.zeros((new_shape[0],new_shape[0]))\n",
    "            if ((i+1)*filter_s)>new_shape[0] and ((j+1)*filter_s) >new_shape[0]:\n",
    "                d = distance_matrix[0:filter_s-(new_shape[0]-filter_s),0:filter_s-(new_shape[0]-filter_s)]\n",
    "            elif ((i+1)*filter_s)>new_shape[0]:            \n",
    "                d = distance_matrix[0:filter_s-(new_shape[0]-filter_s),:]\n",
    "            elif ((j+1)*filter_s)>new_shape[0]:\n",
    "                d = distance_matrix[:,0:filter_s-(new_shape[0]-filter_s)]\n",
    "            else:\n",
    "                d = distance_matrix\n",
    "            sample[i*filter_s:(i+1)*filter_s,j*filter_s:(j+1)*filter_s] = d\n",
    "            ensemble.append(sample)\n",
    "    return(np.array(ensemble))\n",
    "\n",
    "padding_s3(np.array([[3,3,3],[3,3,3],[3,3,3]]), new_shape=(8,8))"
   ]
  },
  {
   "cell_type": "code",
   "execution_count": null,
   "metadata": {},
   "outputs": [],
   "source": []
  }
 ],
 "metadata": {
  "kernelspec": {
   "display_name": "Python 3",
   "language": "python",
   "name": "python3"
  },
  "language_info": {
   "codemirror_mode": {
    "name": "ipython",
    "version": 3
   },
   "file_extension": ".py",
   "mimetype": "text/x-python",
   "name": "python",
   "nbconvert_exporter": "python",
   "pygments_lexer": "ipython3",
   "version": "3.6.5"
  }
 },
 "nbformat": 4,
 "nbformat_minor": 2
}
