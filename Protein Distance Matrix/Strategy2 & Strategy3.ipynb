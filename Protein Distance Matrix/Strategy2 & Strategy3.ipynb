{
 "cells": [
  {
   "cell_type": "code",
   "execution_count": 1,
   "metadata": {},
   "outputs": [],
   "source": [
    "from Bio import PDB\n",
    "import numpy as np\n",
    "import os\n",
    "import random\n",
    "from math import ceil, floor"
   ]
  },
  {
   "cell_type": "markdown",
   "metadata": {},
   "source": [
    "Strategy 2: Unlike the strategy 1 yielding a single 256×256 matrix,\n",
    "we tried an ensemble-based strategy, which yields __multiple matrices rather than\n",
    "a single one__. These matrices were fed into DCNN, and the average results were\n",
    "calculated. Here, the number of __ensemble matrices was set to be proportional to\n",
    "the length of query protein__."
   ]
  },
  {
   "cell_type": "code",
   "execution_count": 2,
   "metadata": {},
   "outputs": [
    {
     "data": {
      "text/plain": [
       "array([[[1, 2, 3, 4, 5, 6, 7],\n",
       "        [1, 2, 8, 4, 5, 6, 7],\n",
       "        [1, 2, 3, 4, 5, 6, 7],\n",
       "        [1, 2, 9, 4, 5, 6, 7],\n",
       "        [1, 2, 3, 4, 5, 6, 7],\n",
       "        [1, 8, 3, 4, 5, 6, 7],\n",
       "        [1, 2, 3, 4, 5, 6, 7]],\n",
       "\n",
       "       [[1, 2, 3, 4, 5, 6, 7],\n",
       "        [1, 2, 8, 4, 5, 6, 7],\n",
       "        [1, 2, 3, 4, 5, 6, 7],\n",
       "        [1, 2, 9, 4, 5, 6, 7],\n",
       "        [1, 2, 3, 4, 5, 6, 7],\n",
       "        [1, 8, 3, 4, 5, 6, 7],\n",
       "        [1, 2, 3, 4, 5, 6, 7]]])"
      ]
     },
     "execution_count": 2,
     "metadata": {},
     "output_type": "execute_result"
    }
   ],
   "source": [
    "# Sampling: For a protein with length over 256, they randomly sampled a 256×256\n",
    "# sub-matrix from its contact likelihood matrix. They repeated this procedure\n",
    "# multiple times and obtained an ensemble\n",
    "\n",
    "def sampling(distance_matrix, new_shape=(64,64), sample_size=None):\n",
    "    if not sample_size:\n",
    "        sample_size = int(floor((distance_matrix.shape[0]/new_shape[0])))*2 # Here, the number of ensemble matrices \n",
    "    ensemble = []                                              # was set to be proportional to the length of query protein\n",
    "    for sample in range(sample_size):\n",
    "        sampled_matrix = []\n",
    "        x,y = random.randint(0,len(distance_matrix)-new_shape[0]), random.randint(0,len(distance_matrix)-new_shape[0])\n",
    "        for i in range(x,x+new_shape[0]):\n",
    "            sampled_matrix.append(distance_matrix[i][y:y+new_shape[0]])\n",
    "        ensemble.append(sampled_matrix)\n",
    "    return(np.array(ensemble))\n",
    "\n",
    "sampling(np.array([[1,2,3,4,5,6,7,8],\n",
    "         [1,2,3,4,5,6,7,8],\n",
    "         [1,2,8,4,5,6,7,8],\n",
    "         [1,2,3,4,5,6,7,8],\n",
    "         [1,2,9,4,5,6,7,8],\n",
    "         [1,2,3,4,5,6,7,8],\n",
    "         [1,8,3,4,5,6,7,8],\n",
    "         [1,2,3,4,5,6,7,8]]), new_shape=(7,7))"
   ]
  },
  {
   "cell_type": "code",
   "execution_count": 25,
   "metadata": {},
   "outputs": [
    {
     "data": {
      "text/plain": [
       "array([[[0, 0, 0, 0, 0, 3, 3, 3],\n",
       "        [0, 0, 0, 0, 0, 3, 3, 3],\n",
       "        [0, 0, 0, 0, 0, 3, 3, 3],\n",
       "        [0, 0, 0, 0, 0, 0, 0, 0],\n",
       "        [0, 0, 0, 0, 0, 0, 0, 0],\n",
       "        [0, 0, 0, 0, 0, 0, 0, 0],\n",
       "        [0, 0, 0, 0, 0, 0, 0, 0],\n",
       "        [0, 0, 0, 0, 0, 0, 0, 0]],\n",
       "\n",
       "       [[0, 0, 0, 0, 0, 0, 0, 0],\n",
       "        [0, 0, 0, 0, 0, 0, 0, 0],\n",
       "        [0, 0, 0, 0, 0, 3, 3, 3],\n",
       "        [0, 0, 0, 0, 0, 3, 3, 3],\n",
       "        [0, 0, 0, 0, 0, 3, 3, 3],\n",
       "        [0, 0, 0, 0, 0, 0, 0, 0],\n",
       "        [0, 0, 0, 0, 0, 0, 0, 0],\n",
       "        [0, 0, 0, 0, 0, 0, 0, 0]]])"
      ]
     },
     "execution_count": 25,
     "metadata": {},
     "output_type": "execute_result"
    }
   ],
   "source": [
    "# Padding: For a protein with length smaller than 256, we embedded its contact\n",
    "# matrix into a 256 × 256 matrix with all elements being 0. The embedding\n",
    "# positions are random; thus, we obtained an ensemble of 256 × 256 matrices\n",
    "# after repeating this operation multiple times.\n",
    "\n",
    "def padding(distance_matrix, new_shape=(64,64), sample_size=None):\n",
    "    if not sample_size:\n",
    "        sample_size = int(ceil((distance_matrix.shape[0]/new_shape[0])))*2 # Here, the number of ensemble matrices \n",
    "    ensemble = []                                                       # was set to be proportional to the\n",
    "    for sample in range(sample_size):                                   # length of query protein\n",
    "        sampled_matrix = [[0 for i in range(new_shape[0])] for i in range(new_shape[0])]\n",
    "        x,y = random.randint(0,len(sampled_matrix)-len(distance_matrix)), random.randint(0,len(sampled_matrix)-len(distance_matrix))\n",
    "        s = 0\n",
    "        for i in range(x,x+len(distance_matrix)):\n",
    "            sampled_matrix[i][y:y+len(distance_matrix)] = distance_matrix[s][:]\n",
    "            s+=1\n",
    "        ensemble.append(sampled_matrix)\n",
    "    return(np.array(ensemble))\n",
    "\n",
    "padding(np.array([[3,3,3],[3,3,3],[3,3,3]]), new_shape=(8,8))"
   ]
  },
  {
   "cell_type": "code",
   "execution_count": null,
   "metadata": {},
   "outputs": [],
   "source": [
    "# Sampling: For a protein with length over 256, they randomly sampled a 256×256\n",
    "# sub-matrix from its contact likelihood matrix. They repeated this procedure\n",
    "# multiple times and obtained an ensemble\n",
    "\n",
    "def sampling_s3(distance_matrix, new_shape=(64,64)):\n",
    "    ensemble = []  \n",
    "    start=0\n",
    "    end = new_shape[0]\n",
    "    for sample in range(ceil(distance_matrix[0]/new_shape[0])):\n",
    "        sampled_matrix = []\n",
    "        for i in range(start,end):\n",
    "            sampled_matrix.append(distance_matrix[i][y:y+new_shape[0]])\n",
    "        ensemble.append(sampled_matrix)\n",
    "    return(np.array(ensemble))\n",
    "\n",
    "sampling(np.array([[1,2,3,4,5,6,7,8],\n",
    "         [1,2,3,4,5,6,7,8],\n",
    "         [1,2,8,4,5,6,7,8],\n",
    "         [1,2,3,4,5,6,7,8],\n",
    "         [1,2,9,4,5,6,7,8],\n",
    "         [1,2,3,4,5,6,7,8],\n",
    "         [1,8,3,4,5,6,7,8],\n",
    "         [1,2,3,4,5,6,7,8]]), new_shape=(7,7))"
   ]
  },
  {
   "cell_type": "code",
   "execution_count": 4,
   "metadata": {},
   "outputs": [
    {
     "data": {
      "text/plain": [
       "2"
      ]
     },
     "execution_count": 4,
     "metadata": {},
     "output_type": "execute_result"
    }
   ],
   "source": [
    "ceil(4/3)"
   ]
  },
  {
   "cell_type": "code",
   "execution_count": 6,
   "metadata": {},
   "outputs": [],
   "source": [
    "a = np.array([[1,2,3,4,5,6,7,8],\n",
    "         [1,2,3,4,5,6,7,8],\n",
    "         [1,2,8,4,5,6,7,8],\n",
    "         [1,2,3,4,5,6,7,8],\n",
    "         [1,2,9,4,5,6,7,8],\n",
    "         [1,2,3,4,5,6,7,8],\n",
    "         [1,8,3,4,5,6,7,8],\n",
    "         [1,2,3,4,5,6,7,8]])"
   ]
  },
  {
   "cell_type": "code",
   "execution_count": 11,
   "metadata": {},
   "outputs": [
    {
     "data": {
      "text/plain": [
       "array([[1, 2, 3, 4, 5, 6],\n",
       "       [1, 2, 3, 4, 5, 6],\n",
       "       [1, 2, 8, 4, 5, 6],\n",
       "       [1, 2, 3, 4, 5, 6],\n",
       "       [1, 2, 9, 4, 5, 6],\n",
       "       [1, 2, 3, 4, 5, 6]])"
      ]
     },
     "execution_count": 11,
     "metadata": {},
     "output_type": "execute_result"
    }
   ],
   "source": [
    "a[0:6,0:6]"
   ]
  },
  {
   "cell_type": "code",
   "execution_count": 19,
   "metadata": {},
   "outputs": [
    {
     "data": {
      "text/plain": [
       "array([[7, 8],\n",
       "       [7, 8],\n",
       "       [7, 8],\n",
       "       [7, 8],\n",
       "       [7, 8],\n",
       "       [7, 8]])"
      ]
     },
     "execution_count": 19,
     "metadata": {},
     "output_type": "execute_result"
    }
   ],
   "source": [
    "a[0:6,6:12]"
   ]
  },
  {
   "cell_type": "code",
   "execution_count": null,
   "metadata": {},
   "outputs": [],
   "source": [
    "0:6 0:6\n",
    "0:6 6:12\n",
    "6:12 0:6\n",
    "6:12 6:12"
   ]
  },
  {
   "cell_type": "code",
   "execution_count": 51,
   "metadata": {},
   "outputs": [
    {
     "ename": "ValueError",
     "evalue": "all the input array dimensions except for the concatenation axis must match exactly",
     "output_type": "error",
     "traceback": [
      "\u001b[0;31m---------------------------------------------------------------------------\u001b[0m",
      "\u001b[0;31mValueError\u001b[0m                                Traceback (most recent call last)",
      "\u001b[0;32m<ipython-input-51-599c8149f971>\u001b[0m in \u001b[0;36m<module>\u001b[0;34m()\u001b[0m\n\u001b[1;32m      3\u001b[0m     \u001b[0;32mfor\u001b[0m \u001b[0mj\u001b[0m \u001b[0;32min\u001b[0m \u001b[0mrange\u001b[0m\u001b[0;34m(\u001b[0m\u001b[0mstep\u001b[0m\u001b[0;34m)\u001b[0m\u001b[0;34m:\u001b[0m\u001b[0;34m\u001b[0m\u001b[0m\n\u001b[1;32m      4\u001b[0m         \u001b[0mk\u001b[0m \u001b[0;34m=\u001b[0m \u001b[0mnp\u001b[0m\u001b[0;34m.\u001b[0m\u001b[0marray\u001b[0m\u001b[0;34m(\u001b[0m\u001b[0ma\u001b[0m\u001b[0;34m[\u001b[0m\u001b[0mi\u001b[0m\u001b[0;34m*\u001b[0m\u001b[0;36m6\u001b[0m\u001b[0;34m:\u001b[0m\u001b[0;34m(\u001b[0m\u001b[0mi\u001b[0m\u001b[0;34m+\u001b[0m\u001b[0;36m1\u001b[0m\u001b[0;34m)\u001b[0m\u001b[0;34m*\u001b[0m\u001b[0;36m6\u001b[0m\u001b[0;34m,\u001b[0m\u001b[0mj\u001b[0m\u001b[0;34m*\u001b[0m\u001b[0;36m6\u001b[0m\u001b[0;34m:\u001b[0m\u001b[0;34m(\u001b[0m\u001b[0mj\u001b[0m\u001b[0;34m+\u001b[0m\u001b[0;36m1\u001b[0m\u001b[0;34m)\u001b[0m\u001b[0;34m*\u001b[0m\u001b[0;36m6\u001b[0m\u001b[0;34m]\u001b[0m\u001b[0;34m)\u001b[0m\u001b[0;34m\u001b[0m\u001b[0m\n\u001b[0;32m----> 5\u001b[0;31m         \u001b[0mprint\u001b[0m\u001b[0;34m(\u001b[0m\u001b[0mnp\u001b[0m\u001b[0;34m.\u001b[0m\u001b[0mhstack\u001b[0m\u001b[0;34m(\u001b[0m\u001b[0;34m[\u001b[0m\u001b[0mk\u001b[0m\u001b[0;34m,\u001b[0m \u001b[0mnp\u001b[0m\u001b[0;34m.\u001b[0m\u001b[0mzeros\u001b[0m\u001b[0;34m(\u001b[0m\u001b[0;34m[\u001b[0m\u001b[0;36m6\u001b[0m\u001b[0;34m-\u001b[0m\u001b[0mk\u001b[0m\u001b[0;34m.\u001b[0m\u001b[0mshape\u001b[0m\u001b[0;34m[\u001b[0m\u001b[0;36m0\u001b[0m\u001b[0;34m]\u001b[0m\u001b[0;34m,\u001b[0m \u001b[0;36m6\u001b[0m\u001b[0;34m-\u001b[0m\u001b[0mk\u001b[0m\u001b[0;34m.\u001b[0m\u001b[0mshape\u001b[0m\u001b[0;34m[\u001b[0m\u001b[0;36m1\u001b[0m\u001b[0;34m]\u001b[0m\u001b[0;34m]\u001b[0m\u001b[0;34m)\u001b[0m\u001b[0;34m]\u001b[0m\u001b[0;34m)\u001b[0m\u001b[0;34m)\u001b[0m\u001b[0;34m\u001b[0m\u001b[0m\n\u001b[0m",
      "\u001b[0;32m/usr/local/lib/python3.6/site-packages/numpy/core/shape_base.py\u001b[0m in \u001b[0;36mhstack\u001b[0;34m(tup)\u001b[0m\n\u001b[1;32m    286\u001b[0m         \u001b[0;32mreturn\u001b[0m \u001b[0m_nx\u001b[0m\u001b[0;34m.\u001b[0m\u001b[0mconcatenate\u001b[0m\u001b[0;34m(\u001b[0m\u001b[0marrs\u001b[0m\u001b[0;34m,\u001b[0m \u001b[0;36m0\u001b[0m\u001b[0;34m)\u001b[0m\u001b[0;34m\u001b[0m\u001b[0m\n\u001b[1;32m    287\u001b[0m     \u001b[0;32melse\u001b[0m\u001b[0;34m:\u001b[0m\u001b[0;34m\u001b[0m\u001b[0m\n\u001b[0;32m--> 288\u001b[0;31m         \u001b[0;32mreturn\u001b[0m \u001b[0m_nx\u001b[0m\u001b[0;34m.\u001b[0m\u001b[0mconcatenate\u001b[0m\u001b[0;34m(\u001b[0m\u001b[0marrs\u001b[0m\u001b[0;34m,\u001b[0m \u001b[0;36m1\u001b[0m\u001b[0;34m)\u001b[0m\u001b[0;34m\u001b[0m\u001b[0m\n\u001b[0m\u001b[1;32m    289\u001b[0m \u001b[0;34m\u001b[0m\u001b[0m\n\u001b[1;32m    290\u001b[0m \u001b[0;34m\u001b[0m\u001b[0m\n",
      "\u001b[0;31mValueError\u001b[0m: all the input array dimensions except for the concatenation axis must match exactly"
     ]
    }
   ],
   "source": [
    "step = ceil(8/6.)\n",
    "for i in range(step):\n",
    "    for j in range(step):\n",
    "        k = np.array(a[i*6:(i+1)*6,j*6:(j+1)*6])\n",
    "        print(np.hstack([k, ]))"
   ]
  },
  {
   "cell_type": "code",
   "execution_count": 55,
   "metadata": {},
   "outputs": [
    {
     "ename": "TypeError",
     "evalue": "hstack() takes 1 positional argument but 2 were given",
     "output_type": "error",
     "traceback": [
      "\u001b[0;31m---------------------------------------------------------------------------\u001b[0m",
      "\u001b[0;31mTypeError\u001b[0m                                 Traceback (most recent call last)",
      "\u001b[0;32m<ipython-input-55-d4cd814b0f68>\u001b[0m in \u001b[0;36m<module>\u001b[0;34m()\u001b[0m\n\u001b[0;32m----> 1\u001b[0;31m \u001b[0mnp\u001b[0m\u001b[0;34m.\u001b[0m\u001b[0mhstack\u001b[0m\u001b[0;34m(\u001b[0m\u001b[0mnp\u001b[0m\u001b[0;34m.\u001b[0m\u001b[0marray\u001b[0m\u001b[0;34m(\u001b[0m\u001b[0;34m[\u001b[0m\u001b[0;34m[\u001b[0m\u001b[0;36m2\u001b[0m\u001b[0;34m,\u001b[0m\u001b[0;36m3\u001b[0m\u001b[0;34m,\u001b[0m\u001b[0;36m4\u001b[0m\u001b[0;34m,\u001b[0m\u001b[0;36m5\u001b[0m\u001b[0;34m]\u001b[0m\u001b[0;34m]\u001b[0m\u001b[0;34m)\u001b[0m\u001b[0;34m,\u001b[0m\u001b[0mnp\u001b[0m\u001b[0;34m.\u001b[0m\u001b[0mzeros\u001b[0m\u001b[0;34m(\u001b[0m\u001b[0;34m[\u001b[0m\u001b[0;36m6\u001b[0m\u001b[0;34m-\u001b[0m\u001b[0;36m3\u001b[0m\u001b[0;34m,\u001b[0m \u001b[0;36m6\u001b[0m\u001b[0;34m-\u001b[0m\u001b[0;36m1\u001b[0m\u001b[0;34m]\u001b[0m\u001b[0;34m)\u001b[0m\u001b[0;34m)\u001b[0m\u001b[0;34m\u001b[0m\u001b[0m\n\u001b[0m",
      "\u001b[0;31mTypeError\u001b[0m: hstack() takes 1 positional argument but 2 were given"
     ]
    }
   ],
   "source": [
    "np.hstack(np.array([[2,3,4,5]]),np.zeros([6-3, 6-1]))"
   ]
  },
  {
   "cell_type": "code",
   "execution_count": null,
   "metadata": {},
   "outputs": [],
   "source": []
  }
 ],
 "metadata": {
  "kernelspec": {
   "display_name": "Python 3",
   "language": "python",
   "name": "python3"
  },
  "language_info": {
   "codemirror_mode": {
    "name": "ipython",
    "version": 3
   },
   "file_extension": ".py",
   "mimetype": "text/x-python",
   "name": "python",
   "nbconvert_exporter": "python",
   "pygments_lexer": "ipython3",
   "version": "3.6.5"
  }
 },
 "nbformat": 4,
 "nbformat_minor": 2
}
