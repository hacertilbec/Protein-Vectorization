{
 "cells": [
  {
   "cell_type": "code",
   "execution_count": 14,
   "metadata": {},
   "outputs": [],
   "source": [
    "import os\n",
    "import numpy as np"
   ]
  },
  {
   "cell_type": "code",
   "execution_count": 15,
   "metadata": {},
   "outputs": [],
   "source": [
    "X = np.array(os.listdir(\"PDBs\"))"
   ]
  },
  {
   "cell_type": "code",
   "execution_count": 4,
   "metadata": {},
   "outputs": [],
   "source": [
    "from sklearn.model_selection import KFold"
   ]
  },
  {
   "cell_type": "code",
   "execution_count": 12,
   "metadata": {},
   "outputs": [],
   "source": [
    "train, test = [], []"
   ]
  },
  {
   "cell_type": "code",
   "execution_count": 20,
   "metadata": {},
   "outputs": [],
   "source": [
    "kf = KFold(n_splits=10, shuffle=True, random_state=0)\n",
    "\n",
    "fold = 1\n",
    "for train_index, test_index in kf.split(X):\n",
    "    train = \"\\n\".join(X[train_index])\n",
    "    test = \"\\n\".join(X[test_index])\n",
    "    with open(\"Folds/{n}_train.txt\".format(n=fold), \"w\") as f:\n",
    "        f.write(train)\n",
    "    with open(\"Folds/{n}_test.txt\".format(n=fold), \"w\") as f:\n",
    "        f.write(test)\n",
    "    fold+=1\n",
    "    "
   ]
  },
  {
   "cell_type": "code",
   "execution_count": 21,
   "metadata": {},
   "outputs": [],
   "source": [
    "train = \"\\n\".join(X[:90])\n",
    "test = \"\\n\".join(X[90:100])\n",
    "with open(\"Folds/sample_train.txt\", \"w\") as f:\n",
    "    f.write(train)\n",
    "with open(\"Folds/sample_test.txt\", \"w\") as f:\n",
    "    f.write(test)"
   ]
  },
  {
   "cell_type": "code",
   "execution_count": 1,
   "metadata": {},
   "outputs": [],
   "source": [
    "import pickle"
   ]
  },
  {
   "cell_type": "code",
   "execution_count": 3,
   "metadata": {},
   "outputs": [],
   "source": [
    "with open(\"pickle files/label_dict.pkl\",\"rb\") as f:\n",
    "    label_dict = pickle.load(f)"
   ]
  },
  {
   "cell_type": "code",
   "execution_count": 15,
   "metadata": {},
   "outputs": [
    {
     "name": "stdout",
     "output_type": "stream",
     "text": [
      ".DS_Store\n",
      "\n",
      ".ipynb_checkpoints\n",
      "\n",
      "d3cu7bd.pdb\n",
      "\n",
      ".DS_Store\n",
      "\n",
      "d3cu7bd.pdb\n",
      "\n",
      ".DS_Store\n",
      "\n",
      ".ipynb_checkpoints\n",
      "\n",
      "d3cu7bd.pdb\n",
      "\n",
      ".ipynb_checkpoints\n",
      "\n",
      "d3cu7bd.pdb\n",
      "\n",
      ".DS_Store\n",
      "\n",
      ".ipynb_checkpoints\n",
      "\n",
      "d3cu7bd.pdb\n",
      "\n",
      ".DS_Store\n",
      "\n",
      ".ipynb_checkpoints\n",
      "\n",
      "d3cu7bd.pdb\n",
      "\n",
      ".DS_Store\n",
      "\n",
      ".ipynb_checkpoints\n",
      "\n",
      ".DS_Store\n",
      "\n",
      ".ipynb_checkpoints\n",
      "\n",
      "d3cu7bd.pdb\n",
      "\n",
      ".DS_Store\n",
      "\n",
      ".ipynb_checkpoints\n",
      "\n",
      "d3cu7bd.pdb\n",
      "\n",
      ".DS_Store\n",
      "\n",
      ".ipynb_checkpoints\n",
      "\n",
      "d3cu7bd.pdb\n",
      "\n"
     ]
    }
   ],
   "source": [
    "train_labels = []\n",
    "test_labels = []\n",
    "\n",
    "for i in range(1,11):\n",
    "    with open(\"Folds/{n}_train.txt\".format(n=i), \"r\") as f:\n",
    "        for line in f.readlines():\n",
    "            try:\n",
    "                label_dict[\"d\"+line.strip(\"\\n\").strip(\".pdb\")]\n",
    "            except:\n",
    "                print(line)\n",
    "    "
   ]
  },
  {
   "cell_type": "code",
   "execution_count": 8,
   "metadata": {},
   "outputs": [
    {
     "data": {
      "text/plain": [
       "('d1k4ya_', 'c.69.1.1')"
      ]
     },
     "execution_count": 8,
     "metadata": {},
     "output_type": "execute_result"
    }
   ],
   "source": [
    "list(label_dict.items())[4]"
   ]
  },
  {
   "cell_type": "code",
   "execution_count": null,
   "metadata": {},
   "outputs": [],
   "source": []
  }
 ],
 "metadata": {
  "kernelspec": {
   "display_name": "Python 3",
   "language": "python",
   "name": "python3"
  },
  "language_info": {
   "codemirror_mode": {
    "name": "ipython",
    "version": 3
   },
   "file_extension": ".py",
   "mimetype": "text/x-python",
   "name": "python",
   "nbconvert_exporter": "python",
   "pygments_lexer": "ipython3",
   "version": "3.6.5"
  }
 },
 "nbformat": 4,
 "nbformat_minor": 2
}
