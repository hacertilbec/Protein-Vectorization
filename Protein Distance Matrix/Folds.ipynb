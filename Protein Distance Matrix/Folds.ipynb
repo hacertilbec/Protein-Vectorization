{
 "cells": [
  {
   "cell_type": "code",
   "execution_count": 1,
   "metadata": {},
   "outputs": [],
   "source": [
    "import os\n",
    "import numpy as np"
   ]
  },
  {
   "cell_type": "code",
   "execution_count": 2,
   "metadata": {},
   "outputs": [],
   "source": [
    "X = np.array(os.listdir(\"PDBs\"))"
   ]
  },
  {
   "cell_type": "code",
   "execution_count": 3,
   "metadata": {},
   "outputs": [],
   "source": [
    "from sklearn.model_selection import KFold"
   ]
  },
  {
   "cell_type": "code",
   "execution_count": 15,
   "metadata": {},
   "outputs": [],
   "source": [
    "train, test = [], []"
   ]
  },
  {
   "cell_type": "code",
   "execution_count": null,
   "metadata": {},
   "outputs": [],
   "source": [
    "kf = KFold(n_splits=10, shuffle=True, random_state=0)\n",
    "\n",
    "fold = 1\n",
    "for train_index, test_index in kf.split(X):\n",
    "    train = \"\\n\".join(X[train_index])\n",
    "    test = \"\\n\".join(X[test_index])\n",
    "    with open(\"Folds/{n}_train.txt\".format(n=fold), \"w\") as f:\n",
    "        f.write(train)\n",
    "    with open(\"Folds/{n}_test.txt\".format(n=fold), \"w\") as f:\n",
    "        f.write(test)\n",
    "    fold+=1\n",
    "    "
   ]
  },
  {
   "cell_type": "code",
   "execution_count": 21,
   "metadata": {},
   "outputs": [],
   "source": [
    "train = \"\\n\".join(X[:90])\n",
    "test = \"\\n\".join(X[90:100])\n",
    "with open(\"Folds/sample_train.txt\", \"w\") as f:\n",
    "    f.write(train)\n",
    "with open(\"Folds/sample_test.txt\", \"w\") as f:\n",
    "    f.write(test)"
   ]
  },
  {
   "cell_type": "code",
   "execution_count": 1,
   "metadata": {},
   "outputs": [],
   "source": [
    "import pickle"
   ]
  },
  {
   "cell_type": "code",
   "execution_count": 3,
   "metadata": {},
   "outputs": [],
   "source": [
    "with open(\"pickle files/label_dict.pkl\",\"rb\") as f:\n",
    "    label_dict = pickle.load(f)"
   ]
  },
  {
   "cell_type": "code",
   "execution_count": 27,
   "metadata": {},
   "outputs": [
    {
     "name": "stdout",
     "output_type": "stream",
     "text": [
      "Number of folds in training set: 4118\n",
      "Number of folds in test set: 1101\n",
      "Number of folds in training set: 4113\n",
      "Number of folds in test set: 1078\n",
      "Number of folds in training set: 4130\n",
      "Number of folds in test set: 1064\n",
      "Number of folds in training set: 4131\n",
      "Number of folds in test set: 1052\n",
      "Number of folds in training set: 4136\n",
      "Number of folds in test set: 1042\n",
      "Number of folds in training set: 4111\n",
      "Number of folds in test set: 1050\n",
      "Number of folds in training set: 4131\n",
      "Number of folds in test set: 1076\n",
      "Number of folds in training set: 4142\n",
      "Number of folds in test set: 1037\n",
      "Number of folds in training set: 4143\n",
      "Number of folds in test set: 1040\n",
      "Number of folds in training set: 4113\n",
      "Number of folds in test set: 1067\n"
     ]
    }
   ],
   "source": [
    "train = []\n",
    "test = []\n",
    "\n",
    "for i in range(1,11):\n",
    "    train_labels = []\n",
    "    test_labels = []\n",
    "    with open(\"Folds/{n}_train.txt\".format(n=i), \"r\") as f:\n",
    "        for line in f.readlines():\n",
    "            try:\n",
    "                train_labels.append(label_dict[\"d\"+line.strip(\"\\n\").strip(\".pdb\")])\n",
    "            except:\n",
    "                continue\n",
    "    with open(\"Folds/{n}_test.txt\".format(n=i), \"r\") as f:\n",
    "        for line in f.readlines():\n",
    "            try:\n",
    "                test_labels.append(label_dict[\"d\"+line.strip(\"\\n\").strip(\".pdb\")])\n",
    "            except:\n",
    "                continue\n",
    "    train.append(len(set(train_labels)))\n",
    "    test.append(len(set(test_labels)))\n",
    "\n",
    "    print(\"Number of folds in training set: {n}\".format(n=len(set(train_labels))))    \n",
    "    print(\"Number of folds in test set: {n}\".format(n=len(set(test_labels))))\n",
    "    \n",
    "    \n",
    "    "
   ]
  },
  {
   "cell_type": "code",
   "execution_count": 28,
   "metadata": {},
   "outputs": [
    {
     "data": {
      "text/plain": [
       "4126.8"
      ]
     },
     "execution_count": 28,
     "metadata": {},
     "output_type": "execute_result"
    }
   ],
   "source": [
    "sum(train)/len(train)"
   ]
  },
  {
   "cell_type": "code",
   "execution_count": 29,
   "metadata": {},
   "outputs": [
    {
     "data": {
      "text/plain": [
       "1060.7"
      ]
     },
     "execution_count": 29,
     "metadata": {},
     "output_type": "execute_result"
    }
   ],
   "source": [
    "sum(test)/len(test)"
   ]
  },
  {
   "cell_type": "code",
   "execution_count": 1,
   "metadata": {},
   "outputs": [
    {
     "data": {
      "text/plain": [
       "0.1"
      ]
     },
     "execution_count": 1,
     "metadata": {},
     "output_type": "execute_result"
    }
   ],
   "source": [
    "1602/16020"
   ]
  },
  {
   "cell_type": "code",
   "execution_count": null,
   "metadata": {},
   "outputs": [],
   "source": []
  }
 ],
 "metadata": {
  "kernelspec": {
   "display_name": "Python 2",
   "language": "python",
   "name": "python2"
  },
  "language_info": {
   "codemirror_mode": {
    "name": "ipython",
    "version": 2
   },
   "file_extension": ".py",
   "mimetype": "text/x-python",
   "name": "python",
   "nbconvert_exporter": "python",
   "pygments_lexer": "ipython2",
   "version": "2.7.15"
  }
 },
 "nbformat": 4,
 "nbformat_minor": 2
}
