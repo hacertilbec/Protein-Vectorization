{
 "cells": [
  {
   "cell_type": "code",
   "execution_count": 1,
   "metadata": {},
   "outputs": [],
   "source": [
    "import pickle\n",
    "import plotly.plotly as py\n",
    "import plotly\n",
    "import plotly.graph_objs as go\n",
    "\n",
    "from plotly import __version__\n",
    "from plotly.offline import download_plotlyjs, init_notebook_mode, plot, iplot"
   ]
  },
  {
   "cell_type": "markdown",
   "metadata": {},
   "source": [
    "# Family Histogram"
   ]
  },
  {
   "cell_type": "code",
   "execution_count": 4,
   "metadata": {},
   "outputs": [],
   "source": [
    "with open(\"pdb_groups.pkl\", \"r\") as f:\n",
    "    groups = pickle.load(f)"
   ]
  },
  {
   "cell_type": "code",
   "execution_count": 61,
   "metadata": {},
   "outputs": [],
   "source": [
    "histogram = dict(map(lambda x: (x[0],len(x[1])),groups.items()))"
   ]
  },
  {
   "cell_type": "code",
   "execution_count": 62,
   "metadata": {},
   "outputs": [],
   "source": [
    "x,y = histogram.keys(), histogram.values()"
   ]
  },
  {
   "cell_type": "code",
   "execution_count": 16,
   "metadata": {},
   "outputs": [
    {
     "data": {
      "text/html": [
       "<script>requirejs.config({paths: { 'plotly': ['https://cdn.plot.ly/plotly-latest.min']},});if(!window.Plotly) {{require(['plotly'],function(plotly) {window.Plotly=plotly;});}}</script>"
      ],
      "text/vnd.plotly.v1+html": [
       "<script>requirejs.config({paths: { 'plotly': ['https://cdn.plot.ly/plotly-latest.min']},});if(!window.Plotly) {{require(['plotly'],function(plotly) {window.Plotly=plotly;});}}</script>"
      ]
     },
     "metadata": {},
     "output_type": "display_data"
    }
   ],
   "source": [
    "init_notebook_mode(connected=True)"
   ]
  },
  {
   "cell_type": "code",
   "execution_count": 63,
   "metadata": {},
   "outputs": [
    {
     "data": {
      "text/plain": [
       "'file:///Users/hacertilbec/Documents/GitHub/Protein-Vectorization/Protein Distance Matrix/temp-plot.html'"
      ]
     },
     "execution_count": 63,
     "metadata": {},
     "output_type": "execute_result"
    }
   ],
   "source": [
    "plotly.offline.plot({\n",
    "\"data\": [\n",
    "    go.Bar(x=x,y=y)\n",
    "]\n",
    "})"
   ]
  },
  {
   "cell_type": "code",
   "execution_count": 66,
   "metadata": {},
   "outputs": [
    {
     "name": "stdout",
     "output_type": "stream",
     "text": [
      "total number of folds:  4344\n",
      "total number of pdb files:  16022\n"
     ]
    }
   ],
   "source": [
    "print \"total number of folds: \", len(histogram.keys())\n",
    "print \"total number of pdb files: \", reduce(lambda x,y: x+y, histogram.values())"
   ]
  },
  {
   "cell_type": "markdown",
   "metadata": {},
   "source": [
    "# Pdb Vector Length Histogram"
   ]
  },
  {
   "cell_type": "code",
   "execution_count": 2,
   "metadata": {},
   "outputs": [],
   "source": [
    "from Bio import PDB\n",
    "import numpy as np\n",
    "import os\n",
    "import cv2\n",
    "#from pdb_utils import *"
   ]
  },
  {
   "cell_type": "code",
   "execution_count": 3,
   "metadata": {
    "scrolled": true
   },
   "outputs": [
    {
     "name": "stderr",
     "output_type": "stream",
     "text": [
      "/usr/local/lib/python2.7/site-packages/Bio/PDB/Atom.py:185: PDBConstructionWarning:\n",
      "\n",
      "Could not assign element 'X' for Atom (name=XE1) with given element 'X'\n",
      "\n",
      "/usr/local/lib/python2.7/site-packages/Bio/PDB/Atom.py:185: PDBConstructionWarning:\n",
      "\n",
      "Could not assign element 'X' for Atom (name=XE2) with given element 'X'\n",
      "\n"
     ]
    }
   ],
   "source": [
    "s_dict = {}\n",
    "dir_path=\"PDBs\"\n",
    "files = os.listdir(dir_path)\n",
    "pdb_files = [(f, os.path.join(dir_path, f)) for f in files if f.endswith(\".pdb\")]\n",
    "\n",
    "for pdb, pdb_path in pdb_files:\n",
    "    parser = PDB.PDBParser()\n",
    "    structure = parser.get_structure(pdb, pdb_path)  \n",
    "    s_size = 0\n",
    "    coords_list = []\n",
    "    model=structure[0]\n",
    "    for chain in model.get_list():\n",
    "        for residue in chain.get_list():\n",
    "            try:\n",
    "                coords = residue['CA'].coord\n",
    "                s_size+=1\n",
    "            except:\n",
    "                continue\n",
    "                \n",
    "    s_dict[pdb] = s_size"
   ]
  },
  {
   "cell_type": "code",
   "execution_count": 4,
   "metadata": {},
   "outputs": [
    {
     "data": {
      "text/plain": [
       "16020"
      ]
     },
     "execution_count": 4,
     "metadata": {},
     "output_type": "execute_result"
    }
   ],
   "source": [
    "len(s_dict.keys())"
   ]
  },
  {
   "cell_type": "code",
   "execution_count": 5,
   "metadata": {},
   "outputs": [],
   "source": [
    "hist_dict = {}\n",
    "for key,value in s_dict.items():\n",
    "    hist_dict.setdefault(value,0)\n",
    "    hist_dict[value]+=1"
   ]
  },
  {
   "cell_type": "code",
   "execution_count": 6,
   "metadata": {},
   "outputs": [
    {
     "data": {
      "text/plain": [
       "584"
      ]
     },
     "execution_count": 6,
     "metadata": {},
     "output_type": "execute_result"
    }
   ],
   "source": [
    "len(hist_dict.keys())"
   ]
  },
  {
   "cell_type": "code",
   "execution_count": 7,
   "metadata": {},
   "outputs": [],
   "source": [
    "x,y = hist_dict.keys(), hist_dict.values()"
   ]
  },
  {
   "cell_type": "code",
   "execution_count": 8,
   "metadata": {
    "scrolled": true
   },
   "outputs": [
    {
     "data": {
      "text/html": [
       "<script>requirejs.config({paths: { 'plotly': ['https://cdn.plot.ly/plotly-latest.min']},});if(!window.Plotly) {{require(['plotly'],function(plotly) {window.Plotly=plotly;});}}</script>"
      ],
      "text/vnd.plotly.v1+html": [
       "<script>requirejs.config({paths: { 'plotly': ['https://cdn.plot.ly/plotly-latest.min']},});if(!window.Plotly) {{require(['plotly'],function(plotly) {window.Plotly=plotly;});}}</script>"
      ]
     },
     "metadata": {},
     "output_type": "display_data"
    },
    {
     "data": {
      "text/plain": [
       "'file:///Users/hacertilbec/Documents/GitHub/Protein-Vectorization/Protein Distance Matrix/temp-plot.html'"
      ]
     },
     "execution_count": 8,
     "metadata": {},
     "output_type": "execute_result"
    }
   ],
   "source": [
    "init_notebook_mode(connected=True)\n",
    "layout = go.Layout(\n",
    "    title='PDB Size Histogram',\n",
    ")\n",
    "\n",
    "plotly.offline.plot({\n",
    "\"data\": [\n",
    "    go.Bar(x=x,y=y)\n",
    "]\n",
    "})"
   ]
  },
  {
   "cell_type": "markdown",
   "metadata": {},
   "source": [
    "## Fold Histogram"
   ]
  },
  {
   "cell_type": "code",
   "execution_count": 5,
   "metadata": {},
   "outputs": [],
   "source": [
    "folds = {}\n",
    "for pclass, pdb_list in groups.items():\n",
    "    fold = \".\".join(pclass.split(\".\")[:2])\n",
    "    for pdb in pdb_list:\n",
    "        folds.setdefault(fold,[])\n",
    "        folds[fold].append(pdb)"
   ]
  },
  {
   "cell_type": "code",
   "execution_count": 6,
   "metadata": {},
   "outputs": [],
   "source": [
    "def pdb_size(pdb):\n",
    "    try:\n",
    "        dir_path=\"PDBs\"\n",
    "        pdb_path = os.path.join(dir_path, pdb+\".pdb\")\n",
    "        parser = PDB.PDBParser()\n",
    "        structure = parser.get_structure(pdb, pdb_path)  \n",
    "        s_size = 0\n",
    "        model=structure[0]\n",
    "        for chain in model.get_list():\n",
    "            for residue in chain.get_list():\n",
    "                try:\n",
    "                    coords = residue['CA'].coord\n",
    "                    s_size+=1\n",
    "                except:\n",
    "                    continue\n",
    "        return s_size\n",
    "    except:\n",
    "        return np.nan"
   ]
  },
  {
   "cell_type": "code",
   "execution_count": 7,
   "metadata": {},
   "outputs": [
    {
     "name": "stderr",
     "output_type": "stream",
     "text": [
      "/usr/local/lib/python2.7/site-packages/Bio/PDB/Atom.py:185: PDBConstructionWarning:\n",
      "\n",
      "Could not assign element 'X' for Atom (name=XE1) with given element 'X'\n",
      "\n",
      "/usr/local/lib/python2.7/site-packages/Bio/PDB/Atom.py:185: PDBConstructionWarning:\n",
      "\n",
      "Could not assign element 'X' for Atom (name=XE2) with given element 'X'\n",
      "\n"
     ]
    }
   ],
   "source": [
    "fold_hist = dict(map(lambda x:(x[0],map(lambda y:pdb_size(y), x[1])), folds.items()))"
   ]
  },
  {
   "cell_type": "code",
   "execution_count": 9,
   "metadata": {},
   "outputs": [],
   "source": [
    "x = fold_hist.keys()\n",
    "y = map(lambda x: np.mean(x) ,fold_hist.values())"
   ]
  },
  {
   "cell_type": "code",
   "execution_count": 10,
   "metadata": {},
   "outputs": [],
   "source": [
    "std_dev = map(lambda x: np.nanstd(x) ,fold_hist.values())"
   ]
  },
  {
   "cell_type": "code",
   "execution_count": 11,
   "metadata": {},
   "outputs": [],
   "source": [
    "mins = map(lambda x: min(x) ,fold_hist.values())\n",
    "maxs = map(lambda x: max(x) ,fold_hist.values()) "
   ]
  },
  {
   "cell_type": "code",
   "execution_count": 12,
   "metadata": {},
   "outputs": [
    {
     "data": {
      "text/plain": [
       "'file:///Users/hacertilbec/Documents/GitHub/Protein-Vectorization/Protein Distance Matrix/temp.html'"
      ]
     },
     "execution_count": 12,
     "metadata": {},
     "output_type": "execute_result"
    }
   ],
   "source": [
    "data = [\n",
    "    go.Scatter(\n",
    "        x=x,\n",
    "        y=y,\n",
    "        error_y=dict(\n",
    "            type='data',\n",
    "            array=std_dev\n",
    "        )\n",
    "    )\n",
    "]\n",
    "\n",
    "plotly.offline.plot(data, filename='temp.html')"
   ]
  },
  {
   "cell_type": "code",
   "execution_count": 29,
   "metadata": {},
   "outputs": [
    {
     "ename": "TypeError",
     "evalue": "__init__() got an unexpected keyword argument 'shared_yaxes'",
     "output_type": "error",
     "traceback": [
      "\u001b[0;31m---------------------------------------------------------------------------\u001b[0m",
      "\u001b[0;31mTypeError\u001b[0m                                 Traceback (most recent call last)",
      "\u001b[0;32m<ipython-input-29-2e86b17bee21>\u001b[0m in \u001b[0;36m<module>\u001b[0;34m()\u001b[0m\n\u001b[1;32m     35\u001b[0m )\n\u001b[1;32m     36\u001b[0m \u001b[0;34m\u001b[0m\u001b[0m\n\u001b[0;32m---> 37\u001b[0;31m \u001b[0mfig\u001b[0m \u001b[0;34m=\u001b[0m \u001b[0mgo\u001b[0m\u001b[0;34m.\u001b[0m\u001b[0mFigure\u001b[0m\u001b[0;34m(\u001b[0m\u001b[0mdata\u001b[0m\u001b[0;34m=\u001b[0m\u001b[0mdata\u001b[0m\u001b[0;34m,\u001b[0m \u001b[0mlayout\u001b[0m\u001b[0;34m=\u001b[0m\u001b[0mlayout\u001b[0m\u001b[0;34m,\u001b[0m \u001b[0mshared_xaxes\u001b[0m\u001b[0;34m=\u001b[0m\u001b[0mTrue\u001b[0m\u001b[0;34m,\u001b[0m \u001b[0mshared_yaxes\u001b[0m\u001b[0;34m=\u001b[0m\u001b[0mTrue\u001b[0m\u001b[0;34m)\u001b[0m\u001b[0;34m\u001b[0m\u001b[0m\n\u001b[0m\u001b[1;32m     38\u001b[0m \u001b[0mplotly\u001b[0m\u001b[0;34m.\u001b[0m\u001b[0moffline\u001b[0m\u001b[0;34m.\u001b[0m\u001b[0mplot\u001b[0m\u001b[0;34m(\u001b[0m\u001b[0mfig\u001b[0m\u001b[0;34m,\u001b[0m \u001b[0mfilename\u001b[0m\u001b[0;34m=\u001b[0m\u001b[0;34m'temp2.html'\u001b[0m\u001b[0;34m)\u001b[0m\u001b[0;34m\u001b[0m\u001b[0m\n",
      "\u001b[0;31mTypeError\u001b[0m: __init__() got an unexpected keyword argument 'shared_yaxes'"
     ]
    }
   ],
   "source": [
    "trace1 = go.Scatter(\n",
    "    x=x,\n",
    "    y=mins,\n",
    "    name='min ',\n",
    "    mode = 'markers',\n",
    "    marker = dict(size = 5)\n",
    ")\n",
    "trace2 = go.Scatter(\n",
    "    x=x,\n",
    "    y=maxs,\n",
    "    name='max',\n",
    "    yaxis='y2',\n",
    "    mode = 'markers',\n",
    "    marker = dict(size = 5)\n",
    ")\n",
    "trace3 = go.Scatter(\n",
    "    x=x,\n",
    "    y=y,\n",
    "    name=\"mean\",\n",
    "    yaxis=\"y3\",\n",
    "    mode = 'markers',\n",
    "    marker = dict(size = 5),\n",
    "    error_y=dict(\n",
    "        type='data',\n",
    "        thickness=1.5,\n",
    "        array=std_dev\n",
    "    )\n",
    ")\n",
    "data = [trace1,trace2, trace3]\n",
    "\n",
    "layout = go.Layout(\n",
    "    title='Fold based pdb size analysis',\n",
    "    yaxis2=dict(overlaying='y'),\n",
    "    yaxis3=dict(overlaying='y')\n",
    ")\n",
    "\n",
    "fig = go.Figure(data=data, layout=layout)\n",
    "plotly.offline.plot(fig, filename='temp2.html')"
   ]
  },
  {
   "cell_type": "code",
   "execution_count": null,
   "metadata": {},
   "outputs": [],
   "source": []
  }
 ],
 "metadata": {
  "kernelspec": {
   "display_name": "Python 2",
   "language": "python",
   "name": "python2"
  },
  "language_info": {
   "codemirror_mode": {
    "name": "ipython",
    "version": 2
   },
   "file_extension": ".py",
   "mimetype": "text/x-python",
   "name": "python",
   "nbconvert_exporter": "python",
   "pygments_lexer": "ipython2",
   "version": "2.7.15"
  }
 },
 "nbformat": 4,
 "nbformat_minor": 2
}
