{
 "cells": [
  {
   "cell_type": "code",
   "execution_count": 26,
   "metadata": {},
   "outputs": [],
   "source": [
    "from autoencoders import *\n",
    "from pdb_utils import *\n",
    "\n",
    "import pickle\n",
    "import numpy as np\n",
    "import pandas as pd\n",
    "import random\n",
    "\n",
    "import numpy as np\n",
    "import tensorflow as tf\n",
    "from tensorflow.contrib.layers import fully_connected\n",
    "from functools import partial\n",
    "import sys\n",
    "\n",
    "from Bio import PDB\n",
    "import numpy as np\n",
    "import os\n",
    "import cv2\n",
    "\n",
    "import matplotlib\n",
    "import matplotlib.pyplot as plt\n",
    "\n",
    "from sklearn.model_selection import train_test_split\n",
    "from sklearn.ensemble import RandomForestClassifier\n",
    "from sklearn.neighbors import KNeighborsClassifier\n",
    "from sklearn.metrics import confusion_matrix\n",
    "from sklearn.metrics import accuracy_score, precision_score, recall_score\n",
    "from sklearn.model_selection import StratifiedShuffleSplit\n",
    "import time"
   ]
  },
  {
   "cell_type": "code",
   "execution_count": 6,
   "metadata": {},
   "outputs": [],
   "source": [
    "def nice_time(start,end):\n",
    "    hours, rem = divmod(end-start, 3600)\n",
    "    minutes, seconds = divmod(rem, 60)\n",
    "    print(\"Runtime: {:0>2}:{:0>2}:{:05.2f}\".format(int(hours),int(minutes),seconds))"
   ]
  },
  {
   "cell_type": "code",
   "execution_count": 3,
   "metadata": {},
   "outputs": [],
   "source": [
    "with open('pickle files/pdb_groups.pkl', 'r') as f:\n",
    "    pdb_groups = pickle.load(f)"
   ]
  },
  {
   "cell_type": "code",
   "execution_count": 17,
   "metadata": {},
   "outputs": [],
   "source": [
    "with open('pickle files/label_dict.pkl', 'rb') as f:\n",
    "    label_dict = pickle.load(f)"
   ]
  },
  {
   "cell_type": "code",
   "execution_count": 4,
   "metadata": {},
   "outputs": [],
   "source": [
    "groups = filter(lambda x: 20>=len(x[1])>=10, pdb_groups.items())"
   ]
  },
  {
   "cell_type": "code",
   "execution_count": 5,
   "metadata": {},
   "outputs": [
    {
     "data": {
      "text/plain": [
       "200"
      ]
     },
     "execution_count": 5,
     "metadata": {},
     "output_type": "execute_result"
    }
   ],
   "source": [
    "len(groups)"
   ]
  },
  {
   "cell_type": "code",
   "execution_count": 7,
   "metadata": {},
   "outputs": [
    {
     "name": "stdout",
     "output_type": "stream",
     "text": [
      "Runtime: 00:40:03.86\n"
     ]
    }
   ],
   "source": [
    "s_time = time.time()\n",
    "structures = []\n",
    "\n",
    "for group, l in groups:\n",
    "    for pdb in l:\n",
    "        try:\n",
    "            pdb_path = os.path.join(\"PDBs\", pdb+\".pdb\")\n",
    "            parser = PDB.PDBParser()\n",
    "            structure = parser.get_structure(pdb, pdb_path)\n",
    "            structures.append(structure)\n",
    "        except:\n",
    "            continue\n",
    "end = time.time()\n",
    "nice_time(s_time,end)"
   ]
  },
  {
   "cell_type": "markdown",
   "metadata": {},
   "source": [
    "## Fold Classification with Strategy 1"
   ]
  },
  {
   "cell_type": "code",
   "execution_count": 8,
   "metadata": {},
   "outputs": [
    {
     "name": "stdout",
     "output_type": "stream",
     "text": [
      "\n",
      "Creating distance matrices with Strategy 1\n",
      "Runtime: 00:26:46.02\n"
     ]
    }
   ],
   "source": [
    "print(\"\\nCreating distance matrices with Strategy 1\")\n",
    "s_time = time.time()\n",
    "matrixdict_s1 = DistanceMatrixDict(structures, resize_strategy=\"strategy1\", resize_to=(64,64),removeSymmetry=True)\n",
    "end = time.time()\n",
    "nice_time(s_time,end)"
   ]
  },
  {
   "cell_type": "code",
   "execution_count": 10,
   "metadata": {},
   "outputs": [
    {
     "name": "stdout",
     "output_type": "stream",
     "text": [
      "Number of samples: 2765\n",
      "Input size: 2016\n"
     ]
    }
   ],
   "source": [
    "pdb_names, features = list(matrixdict_s1.keys()), list(matrixdict_s1.values())\n",
    "input_size = len(features[0])\n",
    "print(\"Number of samples: %d\"%len(pdb_names))\n",
    "print(\"Input size: %d\"%input_size)"
   ]
  },
  {
   "cell_type": "code",
   "execution_count": 11,
   "metadata": {},
   "outputs": [
    {
     "name": "stdout",
     "output_type": "stream",
     "text": [
      "Linear Autoencoder - 100 epochs\n",
      "Runtime: 00:03:56.24\n"
     ]
    }
   ],
   "source": [
    "print(\"Linear Autoencoder - 100 epochs\")\n",
    "s_time = time.time()\n",
    "new_features, loss = LinearAutoencoder(features, input_size, 50, 100, learning_rate=0.0001)\n",
    "end = time.time()\n",
    "nice_time(s_time,end)"
   ]
  },
  {
   "cell_type": "code",
   "execution_count": 13,
   "metadata": {},
   "outputs": [
    {
     "data": {
      "text/plain": [
       "[<matplotlib.lines.Line2D at 0x103852750>]"
      ]
     },
     "execution_count": 13,
     "metadata": {},
     "output_type": "execute_result"
    },
    {
     "data": {
      "image/png": "[encoded data removed]",
      "text/plain": [
       "<matplotlib.figure.Figure at 0x103852710>"
      ]
     },
     "metadata": {},
     "output_type": "display_data"
    }
   ],
   "source": [
    "# LOSS GRAPH\n",
    "fig, ax = plt.subplots()\n",
    "ax.plot(range(0,len(loss)), loss, 'go-', linewidth=1, markersize=1)"
   ]
  },
  {
   "cell_type": "code",
   "execution_count": 33,
   "metadata": {},
   "outputs": [],
   "source": [
    "def pdbClassifier(X,y,label_dict,classifier):           \n",
    "    uniques = list(set(y))\n",
    "    print(\"Number of labels: %d\"%len(uniques))\n",
    "    group2id = dict(zip(uniques, range(len(uniques))))\n",
    "    y = np.array(list(map(lambda x: group2id[x], y)))\n",
    "    \n",
    "    # Stratified Cross Validation\n",
    "    sss = StratifiedShuffleSplit(n_splits=10, test_size=0.2, random_state=42)\n",
    "    C = 1\n",
    "    acc, prec, rec = 0,0,0\n",
    "    s_time = time.time()\n",
    "    for train_index, test_index in sss.split(X, y):\n",
    "        print(\"\\nStratified Cross Validation - %d\"%C)\n",
    "        X_train, X_test = X[train_index], X[test_index]\n",
    "        y_train, y_test = y[train_index], y[test_index]\n",
    "        print(\"Training...\")\n",
    "        # Fitting Random Forest Classification to the Training set\n",
    "        classifier = classifier\n",
    "        classifier.fit(X_train, y_train)\n",
    "        \n",
    "        # Print train/test accuracy\n",
    "        y_pred_train = classifier.predict(X_train)\n",
    "        print \"Train accuracy: \",accuracy_score(y_train, y_pred_train)\n",
    "        y_pred_test = classifier.predict(X_test)\n",
    "        print \"Test accuracy: \",accuracy_score(y_test, y_pred_test)\n",
    "        \n",
    "        acc+=accuracy_score(y_test, y_pred_test)\n",
    "        prec+=precision_score(y_test, y_pred_test, average='weighted')\n",
    "        rec+=recall_score(y_test, y_pred_test, average='weighted')\n",
    "        C+=1\n",
    "    end = time.time()\n",
    "    nice_time(s_time,end)\n",
    "\n",
    "    print \"\\naverage accuracy_score: \", acc/10\n",
    "    print \"average precision_score: \", prec/10\n",
    "    print \"average recall_score: \", rec/10"
   ]
  },
  {
   "cell_type": "code",
   "execution_count": 18,
   "metadata": {},
   "outputs": [
    {
     "name": "stdout",
     "output_type": "stream",
     "text": [
      "('b.55.1.2', 'b.55.1', 'b.55', 'b')\n"
     ]
    }
   ],
   "source": [
    "X = np.array(new_features)\n",
    "y_family, y_superfamily, y_fold, y_class = [], [], [], []\n",
    "\n",
    "for pdb in pdb_names:\n",
    "    y_family.append(label_dict[pdb])\n",
    "    y_superfamily.append(\".\".join(label_dict[pdb].split(\".\")[:3]))\n",
    "    y_fold.append(\".\".join(label_dict[pdb].split(\".\")[:2]))\n",
    "    y_class.append(\".\".join(label_dict[pdb].split(\".\")[0]))\n",
    "print(y_family[0], y_superfamily[0], y_fold[0], y_class[0])"
   ]
  },
  {
   "cell_type": "code",
   "execution_count": 34,
   "metadata": {},
   "outputs": [
    {
     "name": "stdout",
     "output_type": "stream",
     "text": [
      "Number of labels: 122\n",
      "\n",
      "Stratified Cross Validation - 1\n",
      "Training...\n",
      "Train accuracy:  0.9950271247739603\n",
      "Test accuracy:  0.7251356238698011\n",
      "\n",
      "Stratified Cross Validation - 2\n",
      "Training...\n",
      "Train accuracy:  0.9959312839059674\n",
      "Test accuracy:  0.7251356238698011\n",
      "\n",
      "Stratified Cross Validation - 3\n",
      "Training...\n",
      "Train accuracy:  0.9963833634719711\n",
      "Test accuracy:  0.7323688969258589\n",
      "\n",
      "Stratified Cross Validation - 4\n",
      "Training...\n",
      "Train accuracy:  1.0\n",
      "Test accuracy:  0.7142857142857143\n",
      "\n",
      "Stratified Cross Validation - 5\n",
      "Training...\n",
      "Train accuracy:  0.9923146473779385\n",
      "Test accuracy:  0.7124773960216998\n",
      "\n",
      "Stratified Cross Validation - 6\n",
      "Training...\n",
      "Train accuracy:  0.994122965641953\n",
      "Test accuracy:  0.7432188065099458\n",
      "\n",
      "Stratified Cross Validation - 7\n",
      "Training...\n",
      "Train accuracy:  0.9945750452079566\n",
      "Test accuracy:  0.7341772151898734\n",
      "\n",
      "Stratified Cross Validation - 8\n",
      "Training...\n",
      "Train accuracy:  0.9945750452079566\n",
      "Test accuracy:  0.7468354430379747\n",
      "\n",
      "Stratified Cross Validation - 9\n",
      "Training...\n",
      "Train accuracy:  0.9986437613019892\n",
      "Test accuracy:  0.7450271247739603\n",
      "\n",
      "Stratified Cross Validation - 10\n",
      "Training...\n",
      "Train accuracy:  0.9954792043399638\n",
      "Test accuracy:  0.7450271247739603\n",
      "Runtime: 00:00:09.96\n",
      "\n",
      "average accuracy_score:  0.732368896925859\n",
      "average precision_score:  0.7541031983384211\n",
      "average recall_score:  0.732368896925859\n"
     ]
    }
   ],
   "source": [
    "from sklearn.linear_model import LogisticRegression\n",
    "\n",
    "clf = LogisticRegression(random_state=0, penalty=\"l2\", multi_class='multinomial', solver='lbfgs')\n",
    "pdbClassifier(X,y_fold , label_dict, clf)"
   ]
  },
  {
   "cell_type": "markdown",
   "metadata": {},
   "source": [
    "## Fold Classification with Strategy 2"
   ]
  },
  {
   "cell_type": "code",
   "execution_count": null,
   "metadata": {},
   "outputs": [
    {
     "name": "stdout",
     "output_type": "stream",
     "text": [
      "\n",
      "Creating distance matrices with Strategy 2\n"
     ]
    }
   ],
   "source": [
    "print(\"\\nCreating distance matrices with Strategy 2\")\n",
    "s_time = time.time()\n",
    "matrixdict_s1 = DistanceMatrixDict(structures, resize_strategy=\"strategy2\", resize_to=(64,64))\n",
    "end = time.time()\n",
    "nice_time(s_time,end)"
   ]
  },
  {
   "cell_type": "code",
   "execution_count": null,
   "metadata": {},
   "outputs": [],
   "source": [
    "pdb_names, features = list(matrixdict_s1.keys()), list(matrixdict_s1.values())\n",
    "input_size = len(features[0])\n",
    "print(\"Number of samples: %d\"%len(pdb_names))\n",
    "print(\"Input size: %d\"%input_size)"
   ]
  },
  {
   "cell_type": "code",
   "execution_count": null,
   "metadata": {},
   "outputs": [],
   "source": [
    "print(\"Linear Autoencoder - 100 epochs\")\n",
    "s_time = time.time()\n",
    "new_features, loss = LinearAutoencoder(features, input_size, 50, 100, learning_rate=0.0001)\n",
    "end = time.time()\n",
    "nice_time(s_time,end)"
   ]
  },
  {
   "cell_type": "code",
   "execution_count": null,
   "metadata": {},
   "outputs": [],
   "source": [
    "# LOSS GRAPH\n",
    "fig, ax = plt.subplots()\n",
    "ax.plot(range(0,len(loss)), loss, 'go-', linewidth=1, markersize=1)"
   ]
  },
  {
   "cell_type": "code",
   "execution_count": null,
   "metadata": {},
   "outputs": [],
   "source": [
    "X = np.array(new_features)\n",
    "y_family, y_superfamily, y_fold, y_class = [], [], [], []\n",
    "\n",
    "for pdb in pdb_names:\n",
    "    p = pdb.split(\"sample\")[0]\n",
    "    y_family.append(label_dict[p])\n",
    "    y_superfamily.append(\".\".join(label_dict[p].split(\".\")[:3]))\n",
    "    y_fold.append(\".\".join(label_dict[p].split(\".\")[:2]))\n",
    "    y_class.append(\".\".join(label_dict[p].split(\".\")[0]))\n",
    "print(y_family[0], y_superfamily[0], y_fold[0], y_class[0])"
   ]
  },
  {
   "cell_type": "code",
   "execution_count": null,
   "metadata": {},
   "outputs": [],
   "source": [
    "from sklearn.linear_model import LogisticRegression\n",
    "\n",
    "clf = LogisticRegression(random_state=0, penalty=\"l2\", multi_class='multinomial', solver='lbfgs')\n",
    "pdbClassifier(X,y_fold , label_dict, clf)"
   ]
  },
  {
   "cell_type": "code",
   "execution_count": null,
   "metadata": {},
   "outputs": [],
   "source": []
  }
 ],
 "metadata": {
  "kernelspec": {
   "display_name": "Python 2",
   "language": "python",
   "name": "python2"
  },
  "language_info": {
   "codemirror_mode": {
    "name": "ipython",
    "version": 2
   },
   "file_extension": ".py",
   "mimetype": "text/x-python",
   "name": "python",
   "nbconvert_exporter": "python",
   "pygments_lexer": "ipython2",
   "version": "2.7.15"
  }
 },
 "nbformat": 4,
 "nbformat_minor": 2
}
