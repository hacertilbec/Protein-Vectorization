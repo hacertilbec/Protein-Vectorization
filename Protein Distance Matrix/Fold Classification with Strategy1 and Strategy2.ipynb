{
 "cells": [
  {
   "cell_type": "code",
   "execution_count": 1,
   "metadata": {},
   "outputs": [],
   "source": [
    "from autoencoders import *\n",
    "from pdb_utils import *\n",
    "\n",
    "import pickle\n",
    "import numpy as np\n",
    "import pandas as pd\n",
    "import random\n",
    "\n",
    "import numpy as np\n",
    "import tensorflow as tf\n",
    "from tensorflow.contrib.layers import fully_connected\n",
    "from functools import partial\n",
    "import sys\n",
    "\n",
    "from Bio import PDB\n",
    "import numpy as np\n",
    "import os\n",
    "import cv2\n",
    "\n",
    "import matplotlib\n",
    "import matplotlib.pyplot as plt\n",
    "\n",
    "from sklearn.model_selection import train_test_split\n",
    "from sklearn.ensemble import RandomForestClassifier\n",
    "from sklearn.neighbors import KNeighborsClassifier\n",
    "from sklearn.metrics import confusion_matrix\n",
    "from sklearn.metrics import accuracy_score, precision_score, recall_score\n",
    "from sklearn.model_selection import StratifiedShuffleSplit\n",
    "from sklearn.linear_model import LogisticRegression\n",
    "\n",
    "import time"
   ]
  },
  {
   "cell_type": "code",
   "execution_count": 2,
   "metadata": {},
   "outputs": [],
   "source": [
    "def nice_time(start,end):\n",
    "    hours, rem = divmod(end-start, 3600)\n",
    "    minutes, seconds = divmod(rem, 60)\n",
    "    print(\"Runtime: {:0>2}:{:0>2}:{:05.2f}\".format(int(hours),int(minutes),seconds))"
   ]
  },
  {
   "cell_type": "code",
   "execution_count": 3,
   "metadata": {},
   "outputs": [],
   "source": [
    "with open('pickle files/fold_groups.pkl', 'r') as f:\n",
    "    fold_dict = pickle.load(f)"
   ]
  },
  {
   "cell_type": "code",
   "execution_count": 4,
   "metadata": {},
   "outputs": [],
   "source": [
    "with open('pickle files/label_dict.pkl', 'rb') as f:\n",
    "    label_dict = pickle.load(f)"
   ]
  },
  {
   "cell_type": "code",
   "execution_count": 14,
   "metadata": {},
   "outputs": [],
   "source": [
    "def pdbClassifier(X,y,label_dict,classifier):           \n",
    "    uniques = list(set(y))\n",
    "    print(\"Number of labels: %d\"%len(uniques))\n",
    "    group2id = dict(zip(uniques, range(len(uniques))))\n",
    "    y = np.array(list(map(lambda x: group2id[x], y)))\n",
    "    \n",
    "    # Stratified Cross Validation\n",
    "    sss = StratifiedShuffleSplit(n_splits=10, test_size=0.2, random_state=42)\n",
    "    C = 1\n",
    "    acc, prec, rec = 0,0,0\n",
    "    s_time = time.time()\n",
    "    for train_index, test_index in sss.split(X, y):\n",
    "        print(\"\\nStratified Cross Validation - %d\"%C)\n",
    "        X_train, X_test = X[train_index], X[test_index]\n",
    "        y_train, y_test = y[train_index], y[test_index]\n",
    "        print(\"Training...\")\n",
    "        # Fitting Random Forest Classification to the Training set\n",
    "        classifier = classifier\n",
    "        classifier.fit(X_train, y_train)\n",
    "        \n",
    "        # Print train/test accuracy\n",
    "        y_pred_train = classifier.predict(X_train)\n",
    "        print \"Train accuracy: \",accuracy_score(y_train, y_pred_train)\n",
    "        y_pred_test = classifier.predict(X_test)\n",
    "        print \"Test accuracy: \",accuracy_score(y_test, y_pred_test)\n",
    "        \n",
    "        acc+=accuracy_score(y_test, y_pred_test)\n",
    "        prec+=precision_score(y_test, y_pred_test, average='weighted')\n",
    "        rec+=recall_score(y_test, y_pred_test, average='weighted')\n",
    "        C+=1\n",
    "    end = time.time()\n",
    "    nice_time(s_time,end)\n",
    "\n",
    "    print \"\\naverage accuracy_score: \", acc/10\n",
    "    print \"average precision_score: \", prec/10\n",
    "    print \"average recall_score: \", rec/10"
   ]
  },
  {
   "cell_type": "code",
   "execution_count": 5,
   "metadata": {},
   "outputs": [
    {
     "data": {
      "text/plain": [
       "10"
      ]
     },
     "execution_count": 5,
     "metadata": {},
     "output_type": "execute_result"
    }
   ],
   "source": [
    "selected_folds = filter(lambda x: x[1]==14, map(lambda x: (x[0],len(x[1])), fold_dict.items()))[:10]\n",
    "len(selected_folds)"
   ]
  },
  {
   "cell_type": "code",
   "execution_count": 6,
   "metadata": {},
   "outputs": [
    {
     "name": "stdout",
     "output_type": "stream",
     "text": [
      "Runtime: 00:00:09.75\n"
     ]
    }
   ],
   "source": [
    "s_time = time.time()\n",
    "structures = []\n",
    "\n",
    "for fold,_ in selected_folds:\n",
    "    for pdb in fold_dict[fold]:\n",
    "        pdb_path = os.path.join(\"PDBs\", pdb+\".pdb\")\n",
    "        parser = PDB.PDBParser()\n",
    "        structure = parser.get_structure(pdb, pdb_path)\n",
    "        structures.append(structure)\n",
    "end = time.time()\n",
    "nice_time(s_time,end)"
   ]
  },
  {
   "cell_type": "markdown",
   "metadata": {},
   "source": [
    "## Fold Classification with Strategy 1"
   ]
  },
  {
   "cell_type": "code",
   "execution_count": 61,
   "metadata": {},
   "outputs": [
    {
     "name": "stdout",
     "output_type": "stream",
     "text": [
      "\n",
      "Creating distance matrices with Strategy 1\n",
      "Runtime: 00:00:25.68\n"
     ]
    }
   ],
   "source": [
    "print(\"\\nCreating distance matrices with Strategy 1\")\n",
    "s_time = time.time()\n",
    "matrixdict_s1 = DistanceMatrixDict(structures, resize_strategy=\"strategy1\", resize_to=(64,64),removeSymmetry=True)\n",
    "end = time.time()\n",
    "nice_time(s_time,end)"
   ]
  },
  {
   "cell_type": "code",
   "execution_count": 62,
   "metadata": {},
   "outputs": [
    {
     "name": "stdout",
     "output_type": "stream",
     "text": [
      "Number of samples: 140\n",
      "Input size: 2016\n"
     ]
    }
   ],
   "source": [
    "pdb_names, features = list(matrixdict_s1.keys()), list(matrixdict_s1.values())\n",
    "input_size = len(features[0])\n",
    "print(\"Number of samples: %d\"%len(pdb_names))\n",
    "print(\"Input size: %d\"%input_size)"
   ]
  },
  {
   "cell_type": "code",
   "execution_count": 63,
   "metadata": {},
   "outputs": [
    {
     "name": "stdout",
     "output_type": "stream",
     "text": [
      "Linear Autoencoder - 100 epochs\n",
      "Runtime: 00:00:13.74\n"
     ]
    }
   ],
   "source": [
    "print(\"Linear Autoencoder - 100 epochs\")\n",
    "s_time = time.time()\n",
    "new_features, loss = LinearAutoencoder(features, input_size, 50, 100, learning_rate=0.0001)\n",
    "end = time.time()\n",
    "nice_time(s_time,end)"
   ]
  },
  {
   "cell_type": "code",
   "execution_count": 64,
   "metadata": {},
   "outputs": [
    {
     "data": {
      "text/plain": [
       "[<matplotlib.lines.Line2D at 0x147f612d0>]"
      ]
     },
     "execution_count": 64,
     "metadata": {},
     "output_type": "execute_result"
    },
    {
     "data": {
      "image/png": "[encoded data removed]",
      "text/plain": [
       "<matplotlib.figure.Figure at 0x147a3fd10>"
      ]
     },
     "metadata": {},
     "output_type": "display_data"
    }
   ],
   "source": [
    "# LOSS GRAPH\n",
    "fig, ax = plt.subplots()\n",
    "ax.plot(range(0,len(loss)), loss, 'go-', linewidth=1, markersize=1)"
   ]
  },
  {
   "cell_type": "code",
   "execution_count": 66,
   "metadata": {},
   "outputs": [
    {
     "name": "stdout",
     "output_type": "stream",
     "text": [
      "('c.119.1.0', 'c.119.1', 'c.119', 'c')\n"
     ]
    }
   ],
   "source": [
    "X = np.array(new_features)\n",
    "y_family, y_superfamily, y_fold, y_class = [], [], [], []\n",
    "\n",
    "for pdb in pdb_names:\n",
    "    y_family.append(label_dict[pdb])\n",
    "    y_superfamily.append(\".\".join(label_dict[pdb].split(\".\")[:3]))\n",
    "    y_fold.append(\".\".join(label_dict[pdb].split(\".\")[:2]))\n",
    "    y_class.append(\".\".join(label_dict[pdb].split(\".\")[0]))\n",
    "print(y_family[0], y_superfamily[0], y_fold[0], y_class[0])"
   ]
  },
  {
   "cell_type": "code",
   "execution_count": 67,
   "metadata": {},
   "outputs": [
    {
     "name": "stdout",
     "output_type": "stream",
     "text": [
      "Number of labels: 10\n",
      "\n",
      "Stratified Cross Validation - 1\n",
      "Training...\n",
      "Train accuracy:  1.0\n",
      "Test accuracy:  0.75\n",
      "\n",
      "Stratified Cross Validation - 2\n",
      "Training...\n",
      "Train accuracy:  1.0\n",
      "Test accuracy:  0.8571428571428571\n",
      "\n",
      "Stratified Cross Validation - 3\n",
      "Training...\n",
      "Train accuracy:  1.0\n",
      "Test accuracy:  0.8928571428571429\n",
      "\n",
      "Stratified Cross Validation - 4\n",
      "Training...\n",
      "Train accuracy:  1.0\n",
      "Test accuracy:  0.8928571428571429\n",
      "\n",
      "Stratified Cross Validation - 5\n",
      "Training...\n",
      "Train accuracy:  1.0\n",
      "Test accuracy:  0.6785714285714286\n",
      "\n",
      "Stratified Cross Validation - 6\n",
      "Training...\n",
      "Train accuracy:  1.0\n",
      "Test accuracy:  0.8928571428571429\n",
      "\n",
      "Stratified Cross Validation - 7\n",
      "Training...\n",
      "Train accuracy:  1.0\n",
      "Test accuracy:  0.8571428571428571\n",
      "\n",
      "Stratified Cross Validation - 8\n",
      "Training...\n",
      "Train accuracy:  1.0\n",
      "Test accuracy:  0.8214285714285714\n",
      "\n",
      "Stratified Cross Validation - 9\n",
      "Training...\n",
      "Train accuracy:  1.0\n",
      "Test accuracy:  0.8928571428571429\n",
      "\n",
      "Stratified Cross Validation - 10\n",
      "Training...\n",
      "Train accuracy:  1.0\n",
      "Test accuracy:  0.8214285714285714\n",
      "Runtime: 00:00:00.31\n",
      "\n",
      "average accuracy_score:  0.8357142857142857\n",
      "average precision_score:  0.8581547619047619\n",
      "average recall_score:  0.8357142857142857\n"
     ]
    }
   ],
   "source": [
    "from sklearn.linear_model import LogisticRegression\n",
    "\n",
    "clf = LogisticRegression(random_state=0, penalty=\"l2\", multi_class='multinomial', solver='lbfgs')\n",
    "pdbClassifier(X, y_fold, label_dict, clf)"
   ]
  },
  {
   "cell_type": "markdown",
   "metadata": {},
   "source": [
    "## Fold Classification with Strategy 2"
   ]
  },
  {
   "cell_type": "code",
   "execution_count": 26,
   "metadata": {},
   "outputs": [
    {
     "name": "stdout",
     "output_type": "stream",
     "text": [
      "\n",
      "Creating distance matrices with Strategy 2\n",
      "Runtime: 00:00:22.09\n"
     ]
    }
   ],
   "source": [
    "print(\"\\nCreating distance matrices with Strategy 2\")\n",
    "s_time = time.time()\n",
    "matrixdict_s2 = DistanceMatrixDict(structures, resize_strategy=\"strategy2\", resize_to=(64,64), sample_size=5)\n",
    "end = time.time()\n",
    "nice_time(s_time,end)"
   ]
  },
  {
   "cell_type": "code",
   "execution_count": 27,
   "metadata": {},
   "outputs": [
    {
     "name": "stdout",
     "output_type": "stream",
     "text": [
      "Number of samples: 140\n",
      "Input size: 4096\n"
     ]
    }
   ],
   "source": [
    "pdb_names, features = list(matrixdict_s2.keys()), list(matrixdict_s2.values())\n",
    "input_size = len(features[0])\n",
    "print(\"Number of samples: %d\"%len(pdb_names))\n",
    "print(\"Input size: %d\"%input_size)"
   ]
  },
  {
   "cell_type": "code",
   "execution_count": 28,
   "metadata": {},
   "outputs": [
    {
     "name": "stdout",
     "output_type": "stream",
     "text": [
      "Linear Autoencoder - 100 epochs\n",
      "Runtime: 00:00:21.13\n"
     ]
    }
   ],
   "source": [
    "print(\"Linear Autoencoder - 100 epochs\")\n",
    "s_time = time.time()\n",
    "new_features, loss = LinearAutoencoder(features, input_size, 50, 100, learning_rate=0.0001)\n",
    "end = time.time()\n",
    "nice_time(s_time,end)"
   ]
  },
  {
   "cell_type": "code",
   "execution_count": 29,
   "metadata": {},
   "outputs": [
    {
     "data": {
      "text/plain": [
       "[<matplotlib.lines.Line2D at 0x10990d7d0>]"
      ]
     },
     "execution_count": 29,
     "metadata": {},
     "output_type": "execute_result"
    },
    {
     "data": {
      "image/png": "[encoded data removed]",
      "text/plain": [
       "<matplotlib.figure.Figure at 0x10990d5d0>"
      ]
     },
     "metadata": {},
     "output_type": "display_data"
    }
   ],
   "source": [
    "# LOSS GRAPH\n",
    "fig, ax = plt.subplots()\n",
    "ax.plot(range(0,len(loss)), loss, 'go-', linewidth=1, markersize=1)"
   ]
  },
  {
   "cell_type": "code",
   "execution_count": 30,
   "metadata": {},
   "outputs": [
    {
     "name": "stdout",
     "output_type": "stream",
     "text": [
      "('c.119.1.0', 'c.119.1', 'c.119', 'c')\n"
     ]
    }
   ],
   "source": [
    "X = np.array(new_features)\n",
    "y_family, y_superfamily, y_fold, y_class = [], [], [], []\n",
    "\n",
    "for pdb in pdb_names:\n",
    "    p = pdb.split(\"sample\")[0]\n",
    "    y_family.append(label_dict[p])\n",
    "    y_superfamily.append(\".\".join(label_dict[p].split(\".\")[:3]))\n",
    "    y_fold.append(\".\".join(label_dict[p].split(\".\")[:2]))\n",
    "    y_class.append(\".\".join(label_dict[p].split(\".\")[0]))\n",
    "print(y_family[0], y_superfamily[0], y_fold[0], y_class[0])"
   ]
  },
  {
   "cell_type": "code",
   "execution_count": 31,
   "metadata": {},
   "outputs": [
    {
     "name": "stdout",
     "output_type": "stream",
     "text": [
      "Number of labels: 10\n",
      "\n",
      "Stratified Cross Validation - 1\n",
      "Training...\n",
      "Train accuracy:  0.9017857142857143\n",
      "Test accuracy:  0.25\n",
      "\n",
      "Stratified Cross Validation - 2\n",
      "Training...\n",
      "Train accuracy:  0.8571428571428571\n",
      "Test accuracy:  0.2857142857142857\n",
      "\n",
      "Stratified Cross Validation - 3\n",
      "Training...\n",
      "Train accuracy:  0.9196428571428571\n",
      "Test accuracy:  0.14285714285714285\n",
      "\n",
      "Stratified Cross Validation - 4\n",
      "Training...\n",
      "Train accuracy:  0.9196428571428571\n",
      "Test accuracy:  0.21428571428571427\n",
      "\n",
      "Stratified Cross Validation - 5\n",
      "Training...\n",
      "Train accuracy:  0.875\n",
      "Test accuracy:  0.2857142857142857\n",
      "\n",
      "Stratified Cross Validation - 6\n",
      "Training...\n",
      "Train accuracy:  0.8839285714285714\n",
      "Test accuracy:  0.17857142857142858\n",
      "\n",
      "Stratified Cross Validation - 7\n",
      "Training...\n",
      "Train accuracy:  0.8482142857142857\n",
      "Test accuracy:  0.32142857142857145\n",
      "\n",
      "Stratified Cross Validation - 8\n",
      "Training...\n",
      "Train accuracy:  0.8928571428571429\n",
      "Test accuracy:  0.25\n",
      "\n",
      "Stratified Cross Validation - 9\n",
      "Training...\n",
      "Train accuracy:  0.9732142857142857\n",
      "Test accuracy:  0.21428571428571427\n",
      "\n",
      "Stratified Cross Validation - 10\n",
      "Training...\n",
      "Train accuracy:  0.8482142857142857\n",
      "Test accuracy:  0.39285714285714285\n",
      "Runtime: 00:00:00.31\n",
      "\n",
      "average accuracy_score:  0.25357142857142856\n",
      "average precision_score:  0.27822278911564624\n",
      "average recall_score:  0.25357142857142856\n"
     ]
    }
   ],
   "source": [
    "clf = LogisticRegression(random_state=0, penalty=\"l2\", multi_class='multinomial', solver='lbfgs')\n",
    "pdbClassifier(X, y_fold , label_dict, clf)"
   ]
  },
  {
   "cell_type": "code",
   "execution_count": null,
   "metadata": {},
   "outputs": [],
   "source": []
  },
  {
   "cell_type": "code",
   "execution_count": null,
   "metadata": {},
   "outputs": [],
   "source": []
  }
 ],
 "metadata": {
  "kernelspec": {
   "display_name": "Python 2",
   "language": "python",
   "name": "python2"
  },
  "language_info": {
   "codemirror_mode": {
    "name": "ipython",
    "version": 2
   },
   "file_extension": ".py",
   "mimetype": "text/x-python",
   "name": "python",
   "nbconvert_exporter": "python",
   "pygments_lexer": "ipython2",
   "version": "2.7.15"
  }
 },
 "nbformat": 4,
 "nbformat_minor": 2
}
