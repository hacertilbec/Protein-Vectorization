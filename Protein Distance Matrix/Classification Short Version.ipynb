{
 "cells": [
  {
   "cell_type": "code",
   "execution_count": 1,
   "metadata": {},
   "outputs": [],
   "source": [
    "from autoencoders import *\n",
    "from pdb_utils import *\n",
    "\n",
    "import pickle\n",
    "import numpy as np\n",
    "import pandas as pd\n",
    "import random\n",
    "\n",
    "import numpy as np\n",
    "import tensorflow as tf\n",
    "from tensorflow.contrib.layers import fully_connected\n",
    "from functools import partial\n",
    "import sys\n",
    "\n",
    "from Bio import PDB\n",
    "import numpy as np\n",
    "import os\n",
    "import cv2\n",
    "\n",
    "import matplotlib\n",
    "import matplotlib.pyplot as plt\n",
    "\n",
    "from sklearn.model_selection import train_test_split\n",
    "from sklearn.ensemble import RandomForestClassifier\n",
    "from sklearn.neighbors import KNeighborsClassifier\n",
    "from sklearn.metrics import confusion_matrix\n",
    "from sklearn.metrics import accuracy_score, precision_score, recall_score\n",
    "import time\n",
    "from sklearn.model_selection import StratifiedShuffleSplit"
   ]
  },
  {
   "cell_type": "code",
   "execution_count": 2,
   "metadata": {},
   "outputs": [],
   "source": [
    "def nice_time(start,end):\n",
    "    hours, rem = divmod(end-start, 3600)\n",
    "    minutes, seconds = divmod(rem, 60)\n",
    "    print(\"Runtime: {:0>2}:{:0>2}:{:05.2f}\".format(int(hours),int(minutes),seconds))"
   ]
  },
  {
   "cell_type": "code",
   "execution_count": 3,
   "metadata": {},
   "outputs": [],
   "source": [
    "with open(\"ProteinContactMapDict.pkl\", \"r\") as f:\n",
    "    proteinmatrixdict = pickle.load(f)"
   ]
  },
  {
   "cell_type": "code",
   "execution_count": 4,
   "metadata": {},
   "outputs": [
    {
     "name": "stdout",
     "output_type": "stream",
     "text": [
      "Number of pdbs: 2765\n",
      "Input size: 2016\n"
     ]
    }
   ],
   "source": [
    "labels, features = list(proteinmatrixdict.keys()), list(proteinmatrixdict.values())\n",
    "input_size = len(features[0])\n",
    "print(\"Number of pdbs: %d\"%len(features))\n",
    "print(\"Input size: %d\"%input_size)"
   ]
  },
  {
   "cell_type": "code",
   "execution_count": 22,
   "metadata": {},
   "outputs": [
    {
     "name": "stdout",
     "output_type": "stream",
     "text": [
      "\n",
      "Linear Autoencoder - 100 epochs\n",
      "Runtime: 00:16:39.20\n"
     ]
    }
   ],
   "source": [
    "print(\"\\nLinear Autoencoder - 100 epochs\")\n",
    "s_time = time.time()\n",
    "new_features, loss = LinearAutoencoder(features, input_size, 500, 100, learning_rate=0.0001)\n",
    "end = time.time()\n",
    "nice_time(s_time,end)"
   ]
  },
  {
   "cell_type": "code",
   "execution_count": 23,
   "metadata": {},
   "outputs": [
    {
     "data": {
      "image/png": "[encoded data removed]",
      "text/plain": [
       "<matplotlib.figure.Figure at 0x1257fc8d0>"
      ]
     },
     "metadata": {},
     "output_type": "display_data"
    }
   ],
   "source": [
    "# LOSS GRAPH\n",
    "fig, ax = plt.subplots()\n",
    "ax.plot(range(0,len(loss)), loss, 'go-', linewidth=1, markersize=1)\n",
    "fig.savefig(\"loss_figure.png\")"
   ]
  },
  {
   "cell_type": "code",
   "execution_count": 7,
   "metadata": {},
   "outputs": [],
   "source": [
    "with open('label_dict.pkl', 'rb') as f:\n",
    "    label_dict = pickle.load(f)"
   ]
  },
  {
   "cell_type": "code",
   "execution_count": 8,
   "metadata": {},
   "outputs": [],
   "source": [
    "def PdbClassifier(X,labels,label_dict,classifier,clf_level=\"family\"):\n",
    "    print(\"%s Level Classification\")% clf_level.upper()\n",
    "    # Encoding labels\n",
    "    y = []\n",
    "    for pdb in labels:\n",
    "        if clf_level == \"family\":\n",
    "            y.append(label_dict[pdb])\n",
    "        elif clf_level == \"superfamily\":\n",
    "            y.append(\".\".join(label_dict[pdb].split(\".\")[:3]))\n",
    "        elif clf_level == \"fold\":\n",
    "            y.append(\".\".join(label_dict[pdb].split(\".\")[:2]))\n",
    "        elif clf_level == \"class\":\n",
    "            y.append(label_dict[pdb].split(\".\")[0])\n",
    "        else:\n",
    "            print(\"Error: Not a valid classification level.\")            \n",
    "    uniques = list(set(y))\n",
    "    print(\"Number of labels: %d\"%len(uniques))\n",
    "    group2id = dict(zip(uniques, range(len(uniques))))\n",
    "    y = np.array(list(map(lambda x: group2id[x], y)))\n",
    "    \n",
    "    # Stratified Cross Validation\n",
    "    sss = StratifiedShuffleSplit(n_splits=10, test_size=0.2, random_state=42)\n",
    "    C = 1\n",
    "    acc, prec, rec = 0,0,0\n",
    "    s_time = time.time()\n",
    "    for train_index, test_index in sss.split(X, y):\n",
    "        print(\"\\nStratified Cross Validation - %d\"%C)\n",
    "        X_train, X_test = X[train_index], X[test_index]\n",
    "        y_train, y_test = y[train_index], y[test_index]\n",
    "        print(\"Training...\")\n",
    "        # Fitting Random Forest Classification to the Training set\n",
    "        classifier = classifier\n",
    "        classifier.fit(X_train, y_train)\n",
    "        \n",
    "        # Print train/test accuracy\n",
    "        y_pred_train = classifier.predict(X_train)\n",
    "        print \"Train accuracy: \",accuracy_score(y_train, y_pred_train)\n",
    "        y_pred_test = classifier.predict(X_test)\n",
    "        print \"Test accuracy: \",accuracy_score(y_test, y_pred_test)\n",
    "        \n",
    "        acc+=accuracy_score(y_test, y_pred_test)\n",
    "        prec+=precision_score(y_test, y_pred_test, average='weighted')\n",
    "        rec+=recall_score(y_test, y_pred_test, average='weighted')\n",
    "        C+=1\n",
    "    end = time.time()\n",
    "    nice_time(s_time,end)\n",
    "\n",
    "    print \"\\naverage accuracy_score: \", acc/10\n",
    "    print \"average precision_score: \", prec/10\n",
    "    print \"average recall_score: \", rec/10"
   ]
  },
  {
   "cell_type": "code",
   "execution_count": 24,
   "metadata": {},
   "outputs": [],
   "source": [
    "clf = RandomForestClassifier(n_estimators = 100, criterion = 'entropy', random_state = 42)"
   ]
  },
  {
   "cell_type": "code",
   "execution_count": 20,
   "metadata": {},
   "outputs": [],
   "source": [
    "from sklearn.neural_network import MLPClassifier\n",
    "clf = MLPClassifier(hidden_layer_sizes=(100,), learning_rate=\"adaptive\", learning_rate_init=0.001)"
   ]
  },
  {
   "cell_type": "code",
   "execution_count": 25,
   "metadata": {
    "scrolled": true
   },
   "outputs": [
    {
     "name": "stdout",
     "output_type": "stream",
     "text": [
      "FAMILY Level Classification\n",
      "Number of labels: 200\n",
      "\n",
      "Stratified Cross Validation - 1\n",
      "Training...\n",
      "Train accuracy:  0.9986437613019892\n",
      "Test accuracy:  0.4430379746835443\n",
      "\n",
      "Stratified Cross Validation - 2\n",
      "Training...\n",
      "Train accuracy:  0.9981916817359855\n",
      "Test accuracy:  0.40325497287522605\n",
      "\n",
      "Stratified Cross Validation - 3\n",
      "Training...\n",
      "Train accuracy:  0.9990958408679927\n",
      "Test accuracy:  0.46112115732368897\n",
      "\n",
      "Stratified Cross Validation - 4\n",
      "Training...\n",
      "Train accuracy:  0.9995479204339964\n",
      "Test accuracy:  0.4321880650994575\n",
      "\n",
      "Stratified Cross Validation - 5\n",
      "Training...\n",
      "Train accuracy:  0.9977396021699819\n",
      "Test accuracy:  0.45569620253164556\n",
      "\n",
      "Stratified Cross Validation - 6\n",
      "Training...\n",
      "Train accuracy:  0.9968354430379747\n",
      "Test accuracy:  0.4267631103074141\n",
      "\n",
      "Stratified Cross Validation - 7\n",
      "Training...\n",
      "Train accuracy:  0.9990958408679927\n",
      "Test accuracy:  0.4321880650994575\n",
      "\n",
      "Stratified Cross Validation - 8\n",
      "Training...\n",
      "Train accuracy:  0.9981916817359855\n",
      "Test accuracy:  0.45750452079566006\n",
      "\n",
      "Stratified Cross Validation - 9\n",
      "Training...\n",
      "Train accuracy:  0.9990958408679927\n",
      "Test accuracy:  0.45750452079566006\n",
      "\n",
      "Stratified Cross Validation - 10\n",
      "Training...\n",
      "Train accuracy:  0.9986437613019892\n",
      "Test accuracy:  0.41229656419529837\n",
      "Runtime: 00:00:38.70\n",
      "\n",
      "average accuracy_score:  0.4381555153707052\n",
      "average precision_score:  0.4990397815147142\n",
      "average recall_score:  0.4381555153707052\n"
     ]
    }
   ],
   "source": [
    "X = np.array(new_features)\n",
    "PdbClassifier(X,labels,label_dict,clf,clf_level=\"family\")"
   ]
  },
  {
   "cell_type": "code",
   "execution_count": 27,
   "metadata": {},
   "outputs": [],
   "source": [
    "importances = clf.feature_importances_"
   ]
  },
  {
   "cell_type": "code",
   "execution_count": 28,
   "metadata": {},
   "outputs": [
    {
     "data": {
      "text/plain": [
       "array([0.00163233, 0.00215058, 0.00089729, 0.0010511 , 0.00065601,\n",
       "       0.00206863, 0.00172249, 0.0018574 , 0.00139424, 0.00089288,\n",
       "       0.00064487, 0.00048507, 0.00192497, 0.00326723, 0.00157073,\n",
       "       0.00020424, 0.00374625, 0.00077241, 0.00075884, 0.00215416,\n",
       "       0.00046679, 0.00113753, 0.00142024, 0.00080123, 0.00744187,\n",
       "       0.0037447 , 0.00086366, 0.00054775, 0.00065448, 0.00144142,\n",
       "       0.00163726, 0.00061557, 0.00061182, 0.00122291, 0.00055214,\n",
       "       0.00472689, 0.00033994, 0.0007913 , 0.00235415, 0.00498456,\n",
       "       0.00082586, 0.00177026, 0.00093681, 0.00105326, 0.00072306,\n",
       "       0.00281868, 0.00058672, 0.00051894, 0.00055451, 0.00207794,\n",
       "       0.00092338, 0.00238309, 0.00110448, 0.00171362, 0.00086029,\n",
       "       0.00142649, 0.00866942, 0.00054026, 0.00233652, 0.0074188 ,\n",
       "       0.00152631, 0.00240142, 0.00181982, 0.00586994, 0.00200266,\n",
       "       0.00070933, 0.00054068, 0.00190052, 0.00098985, 0.00030372,\n",
       "       0.00053819, 0.00113157, 0.00289915, 0.00043034, 0.00088612,\n",
       "       0.00090457, 0.00194786, 0.00070827, 0.00131227, 0.00067073,\n",
       "       0.00074527, 0.00124296, 0.00042697, 0.00162861, 0.00080615,\n",
       "       0.00056573, 0.0093367 , 0.00157192, 0.00131152, 0.00125824,\n",
       "       0.00076826, 0.00161708, 0.00102408, 0.00020297, 0.00089818,\n",
       "       0.00228041, 0.00288118, 0.00158298, 0.0006807 , 0.00177152,\n",
       "       0.00065309, 0.00081557, 0.00099235, 0.00066501, 0.00126771,\n",
       "       0.00078617, 0.00288576, 0.00116532, 0.00094744, 0.0009123 ,\n",
       "       0.00056699, 0.00389589, 0.00136714, 0.00061017, 0.00037809,\n",
       "       0.00177257, 0.00083155, 0.00088369, 0.00078803, 0.00065344,\n",
       "       0.00203231, 0.00108788, 0.00204532, 0.00062146, 0.00153795,\n",
       "       0.00081531, 0.00108521, 0.00111191, 0.00033962, 0.00053164,\n",
       "       0.002334  , 0.00308032, 0.002103  , 0.00222084, 0.00131558,\n",
       "       0.00120093, 0.00126858, 0.0041907 , 0.00076048, 0.0013328 ,\n",
       "       0.00776203, 0.01477496, 0.00141342, 0.00300428, 0.00104774,\n",
       "       0.0008111 , 0.00036231, 0.00066425, 0.00157475, 0.00088458,\n",
       "       0.00046233, 0.00490493, 0.00052595, 0.00093961, 0.00115998,\n",
       "       0.00117015, 0.00177874, 0.00220492, 0.00133903, 0.00028897,\n",
       "       0.00168438, 0.00159969, 0.00887242, 0.00262823, 0.0020196 ,\n",
       "       0.00708557, 0.00268447, 0.00099824, 0.01704981, 0.0077251 ,\n",
       "       0.00672346, 0.01157556, 0.00030216, 0.00030738, 0.0004042 ,\n",
       "       0.0027239 , 0.00871878, 0.00198584, 0.00184246, 0.00430505,\n",
       "       0.00077621, 0.00163989, 0.00391364, 0.00061222, 0.00143571,\n",
       "       0.00137511, 0.00090802, 0.00051538, 0.00140667, 0.00481105,\n",
       "       0.00043741, 0.0005953 , 0.00120295, 0.00067817, 0.00066145,\n",
       "       0.00154871, 0.00212345, 0.00119541, 0.00094557, 0.00471757,\n",
       "       0.00052696, 0.00039143, 0.00108603, 0.00056705, 0.00113701,\n",
       "       0.00531791, 0.00463112, 0.00053556, 0.00174136, 0.00046675,\n",
       "       0.00616883, 0.00169855, 0.00027725, 0.00075115, 0.00082498,\n",
       "       0.00066201, 0.00046605, 0.00237573, 0.00274633, 0.00178786,\n",
       "       0.00123415, 0.00124159, 0.00100639, 0.00658273, 0.00099034,\n",
       "       0.00156331, 0.00033439, 0.00076133, 0.00255751, 0.00075209,\n",
       "       0.0006714 , 0.00110007, 0.00187664, 0.00247838, 0.00064996,\n",
       "       0.0017251 , 0.00062155, 0.00048368, 0.00083092, 0.00110461,\n",
       "       0.00108025, 0.0010241 , 0.0006038 , 0.00056131, 0.0006888 ,\n",
       "       0.00048587, 0.0063875 , 0.00070629, 0.00145087, 0.00068965,\n",
       "       0.00373051, 0.00065475, 0.00047156, 0.00116072, 0.00356109,\n",
       "       0.00095721, 0.00414261, 0.00657588, 0.00103548, 0.00132932,\n",
       "       0.00066962, 0.00188441, 0.00063802, 0.00095717, 0.00130144,\n",
       "       0.00165902, 0.00043227, 0.00066686, 0.00073393, 0.00064112,\n",
       "       0.00107151, 0.00181307, 0.01847522, 0.03092738, 0.0004911 ,\n",
       "       0.00035914, 0.00138009, 0.00165872, 0.0006244 , 0.00134034,\n",
       "       0.00055589, 0.00103952, 0.00045799, 0.00085741, 0.00233856,\n",
       "       0.00062251, 0.00136478, 0.00115587, 0.00041828, 0.00134685,\n",
       "       0.00071465, 0.00171699, 0.00258347, 0.00049603, 0.00098085,\n",
       "       0.00551483, 0.00044587, 0.00159949, 0.00233439, 0.00568733,\n",
       "       0.00169038, 0.00132722, 0.00059724, 0.00176115, 0.00069264,\n",
       "       0.00094549, 0.00097284, 0.0094942 , 0.00017116, 0.00333714,\n",
       "       0.00241435, 0.0006244 , 0.00865283, 0.00259935, 0.00216892,\n",
       "       0.00064514, 0.00054128, 0.0009711 , 0.00169204, 0.00383382,\n",
       "       0.00239547, 0.00105173, 0.003187  , 0.00346014, 0.0005864 ,\n",
       "       0.00159738, 0.00107104, 0.00316724, 0.00060236, 0.00068086,\n",
       "       0.00163799, 0.00034882, 0.00143218, 0.00061242, 0.00060018,\n",
       "       0.00123875, 0.01835461, 0.00167763, 0.00099479, 0.00106002,\n",
       "       0.00278031, 0.00125329, 0.00092634, 0.00121809, 0.00060082,\n",
       "       0.00129072, 0.00175303, 0.00071532, 0.0019084 , 0.00082757,\n",
       "       0.00252369, 0.01213673, 0.0008742 , 0.00126816, 0.00053457,\n",
       "       0.00086268, 0.00102716, 0.00736647, 0.00150513, 0.00158286,\n",
       "       0.00578024, 0.00064887, 0.00067439, 0.00111595, 0.00318315,\n",
       "       0.00076933, 0.00069863, 0.00139468, 0.000725  , 0.00072254,\n",
       "       0.00203163, 0.00202063, 0.00126806, 0.00393466, 0.00073993,\n",
       "       0.00295273, 0.0024969 , 0.00067971, 0.00138531, 0.00076297,\n",
       "       0.000765  , 0.00054613, 0.00058349, 0.00309435, 0.0010198 ,\n",
       "       0.00084348, 0.00065227, 0.00291504, 0.00093667, 0.00205222,\n",
       "       0.00123293, 0.00118759, 0.00063757, 0.0006636 , 0.00055396,\n",
       "       0.00110367, 0.00159939, 0.00069968, 0.0005272 , 0.00105911,\n",
       "       0.00147818, 0.0017044 , 0.00130667, 0.00074723, 0.00036532,\n",
       "       0.00100004, 0.00284682, 0.00035419, 0.00032147, 0.00085823,\n",
       "       0.00094518, 0.00140595, 0.00188344, 0.00066382, 0.0006395 ,\n",
       "       0.00387769, 0.00045985, 0.00264995, 0.002756  , 0.00155658,\n",
       "       0.00687016, 0.00148946, 0.00070456, 0.01034972, 0.00314866,\n",
       "       0.00083381, 0.00160518, 0.00111438, 0.0037173 , 0.00138985,\n",
       "       0.00112094, 0.00179131, 0.00110729, 0.00055551, 0.0016798 ,\n",
       "       0.00102165, 0.00057504, 0.00054478, 0.00074848, 0.00055016,\n",
       "       0.0013387 , 0.00043146, 0.00086083, 0.00058832, 0.0006417 ,\n",
       "       0.00409245, 0.00144972, 0.02698118, 0.00135942, 0.00093422,\n",
       "       0.00123976, 0.0003837 , 0.00161317, 0.00030564, 0.00102625,\n",
       "       0.00184244, 0.00047812, 0.00072084, 0.00689642, 0.00067028,\n",
       "       0.00550913, 0.00039817, 0.00084882, 0.00240859, 0.00079007,\n",
       "       0.00184438, 0.00286902, 0.00236697, 0.0005251 , 0.00248619,\n",
       "       0.00048853, 0.00138544, 0.00053333, 0.00145145, 0.00041748,\n",
       "       0.00077274, 0.00225251, 0.01514836, 0.00069857, 0.00189075,\n",
       "       0.00095711, 0.00091694, 0.00119308, 0.00527004, 0.00045834,\n",
       "       0.00251638, 0.00225881, 0.00349663, 0.00124949, 0.00091751,\n",
       "       0.00170984, 0.00116619, 0.00068038, 0.0016119 , 0.00076101,\n",
       "       0.00107342, 0.00065944, 0.00055903, 0.02238922, 0.00078339])"
      ]
     },
     "execution_count": 28,
     "metadata": {},
     "output_type": "execute_result"
    }
   ],
   "source": [
    "importances"
   ]
  },
  {
   "cell_type": "code",
   "execution_count": 19,
   "metadata": {},
   "outputs": [
    {
     "name": "stdout",
     "output_type": "stream",
     "text": [
      "CLASS Level Classification\n",
      "Number of labels: 7\n",
      "\n",
      "Stratified Cross Validation - 1\n",
      "Training...\n",
      "Train accuracy:  0.8969258589511754\n",
      "Test accuracy:  0.6962025316455697\n",
      "\n",
      "Stratified Cross Validation - 2\n",
      "Training...\n",
      "Train accuracy:  0.9055153707052441\n",
      "Test accuracy:  0.7233273056057866\n",
      "\n",
      "Stratified Cross Validation - 3\n",
      "Training...\n",
      "Train accuracy:  0.9082278481012658\n",
      "Test accuracy:  0.7305605786618445\n",
      "\n",
      "Stratified Cross Validation - 4\n",
      "Training...\n",
      "Train accuracy:  0.9367088607594937\n",
      "Test accuracy:  0.7468354430379747\n",
      "\n",
      "Stratified Cross Validation - 5\n",
      "Training...\n",
      "Train accuracy:  0.9751356238698011\n",
      "Test accuracy:  0.7721518987341772\n",
      "\n",
      "Stratified Cross Validation - 6\n",
      "Training...\n",
      "Train accuracy:  0.900994575045208\n",
      "Test accuracy:  0.705244122965642\n",
      "\n",
      "Stratified Cross Validation - 7\n",
      "Training...\n",
      "Train accuracy:  0.8571428571428571\n",
      "Test accuracy:  0.7251356238698011\n",
      "\n",
      "Stratified Cross Validation - 8\n",
      "Training...\n",
      "Train accuracy:  0.9159132007233273\n",
      "Test accuracy:  0.7739602169981917\n",
      "\n",
      "Stratified Cross Validation - 9\n",
      "Training...\n",
      "Train accuracy:  0.8752260397830018\n",
      "Test accuracy:  0.7179023508137432\n",
      "\n",
      "Stratified Cross Validation - 10\n",
      "Training...\n",
      "Train accuracy:  0.794755877034358\n",
      "Test accuracy:  0.6690777576853526\n",
      "Runtime: 00:00:05.11\n",
      "\n",
      "average accuracy_score:  0.7260397830018083\n",
      "average precision_score:  0.732916773733854\n",
      "average recall_score:  0.7260397830018083\n"
     ]
    }
   ],
   "source": [
    "X = np.array(new_features)\n",
    "PdbClassifier(X,labels,label_dict,clf,clf_level=\"class\")"
   ]
  },
  {
   "cell_type": "code",
   "execution_count": null,
   "metadata": {},
   "outputs": [],
   "source": []
  }
 ],
 "metadata": {
  "kernelspec": {
   "display_name": "Python 2",
   "language": "python",
   "name": "python2"
  },
  "language_info": {
   "codemirror_mode": {
    "name": "ipython",
    "version": 2
   },
   "file_extension": ".py",
   "mimetype": "text/x-python",
   "name": "python",
   "nbconvert_exporter": "python",
   "pygments_lexer": "ipython2",
   "version": "2.7.15"
  }
 },
 "nbformat": 4,
 "nbformat_minor": 2
}
