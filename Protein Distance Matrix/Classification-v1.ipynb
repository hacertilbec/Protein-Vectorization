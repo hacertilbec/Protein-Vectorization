{
 "cells": [
  {
   "cell_type": "code",
   "execution_count": 1,
   "metadata": {},
   "outputs": [],
   "source": [
    "from autoencoders import *\n",
    "from pdb_utils import *\n",
    "\n",
    "import pickle\n",
    "import numpy as np\n",
    "import pandas as pd\n",
    "import random\n",
    "\n",
    "import numpy as np\n",
    "import tensorflow as tf\n",
    "from tensorflow.contrib.layers import fully_connected\n",
    "from functools import partial\n",
    "import sys\n",
    "\n",
    "from Bio import PDB\n",
    "import numpy as np\n",
    "import os\n",
    "import cv2\n",
    "\n",
    "import matplotlib\n",
    "import matplotlib.pyplot as plt\n",
    "\n",
    "from sklearn.model_selection import train_test_split\n",
    "from sklearn.ensemble import RandomForestClassifier\n",
    "from sklearn.neighbors import KNeighborsClassifier\n",
    "from sklearn.metrics import confusion_matrix\n",
    "from sklearn.metrics import accuracy_score, precision_score, recall_score\n",
    "import time"
   ]
  },
  {
   "cell_type": "code",
   "execution_count": 2,
   "metadata": {},
   "outputs": [],
   "source": [
    "with open('pdb_groups.pkl', 'r') as f:\n",
    "    pdb_groups = pickle.load(f)"
   ]
  },
  {
   "cell_type": "code",
   "execution_count": 9,
   "metadata": {},
   "outputs": [],
   "source": [
    "groups = filter(lambda x: 20>=len(x[1])>=10, pdb_groups.items())"
   ]
  },
  {
   "cell_type": "code",
   "execution_count": 10,
   "metadata": {},
   "outputs": [
    {
     "name": "stdout",
     "output_type": "stream",
     "text": [
      "200\n"
     ]
    }
   ],
   "source": [
    "print len(map(lambda x: x[0],groups))"
   ]
  },
  {
   "cell_type": "code",
   "execution_count": 11,
   "metadata": {},
   "outputs": [
    {
     "name": "stdout",
     "output_type": "stream",
     "text": [
      "2765\n"
     ]
    }
   ],
   "source": [
    "# Total number of pdbs: 2765"
   ]
  },
  {
   "cell_type": "code",
   "execution_count": 13,
   "metadata": {},
   "outputs": [],
   "source": [
    "with open('label_dict.pkl', 'rb') as f:\n",
    "    label_dict = pickle.load(f)\n",
    "\n",
    "def nice_time(start,end):\n",
    "    hours, rem = divmod(end-start, 3600)\n",
    "    minutes, seconds = divmod(rem, 60)\n",
    "    print(\"Runtime: {:0>2}:{:0>2}:{:05.2f}\".format(int(hours),int(minutes),seconds))"
   ]
  },
  {
   "cell_type": "code",
   "execution_count": 14,
   "metadata": {},
   "outputs": [
    {
     "name": "stdout",
     "output_type": "stream",
     "text": [
      "Runtime: 00:36:38.77\n"
     ]
    }
   ],
   "source": [
    "s_time = time.time()\n",
    "structures = []\n",
    "\n",
    "for group, l in groups:\n",
    "    for pdb in l:\n",
    "        try:\n",
    "            pdb_path = os.path.join(\"PDBs\", pdb+\".pdb\")\n",
    "            parser = PDB.PDBParser()\n",
    "            structure = parser.get_structure(pdb, pdb_path)\n",
    "            structures.append(structure)\n",
    "        except:\n",
    "            continue\n",
    "end = time.time()\n",
    "nice_time(s_time,end)"
   ]
  },
  {
   "cell_type": "code",
   "execution_count": 15,
   "metadata": {},
   "outputs": [
    {
     "name": "stdout",
     "output_type": "stream",
     "text": [
      "\n",
      "Creating protein contact maps\n",
      "Runtime: 01:18:13.83\n"
     ]
    }
   ],
   "source": [
    "print(\"\\nCreating protein contact maps\")\n",
    "s_time = time.time()\n",
    "proteinmatrixdict = ProteinContactMapDict(structures, resize_to=(64,64), removeSymmetry=True)\n",
    "end = time.time()\n",
    "nice_time(s_time,end)"
   ]
  },
  {
   "cell_type": "code",
   "execution_count": 16,
   "metadata": {},
   "outputs": [
    {
     "name": "stdout",
     "output_type": "stream",
     "text": [
      "Number of pdbs: 2765\n",
      "Input size: 2016\n"
     ]
    }
   ],
   "source": [
    "labels, features = list(proteinmatrixdict.keys()), list(proteinmatrixdict.values())\n",
    "input_size = len(features[0])\n",
    "print(\"Number of pdbs: %d\"%len(structures))\n",
    "print(\"Input size: %d\"%input_size)"
   ]
  },
  {
   "cell_type": "code",
   "execution_count": 17,
   "metadata": {},
   "outputs": [
    {
     "name": "stdout",
     "output_type": "stream",
     "text": [
      "\n",
      "Linear Autoencoder - 100 epochs\n",
      "Runtime: 00:15:43.59\n"
     ]
    }
   ],
   "source": [
    "print(\"\\nLinear Autoencoder - 100 epochs\")\n",
    "s_time = time.time()\n",
    "new_features, loss = LinearAutoencoder(features, input_size, 500, 100, learning_rate=0.0001)\n",
    "end = time.time()\n",
    "nice_time(s_time,end)"
   ]
  },
  {
   "cell_type": "code",
   "execution_count": 18,
   "metadata": {},
   "outputs": [
    {
     "data": {
      "image/png": "[encoded data removed]",
      "text/plain": [
       "<matplotlib.figure.Figure at 0x4ccb5d150>"
      ]
     },
     "metadata": {},
     "output_type": "display_data"
    }
   ],
   "source": [
    "# LOSS GRAPH\n",
    "fig, ax = plt.subplots()\n",
    "ax.plot(range(0,len(loss)), loss, 'go-', linewidth=1, markersize=1)\n",
    "fig.savefig(\"loss_figure.png\")"
   ]
  },
  {
   "cell_type": "code",
   "execution_count": 19,
   "metadata": {},
   "outputs": [],
   "source": [
    "with open(\"LASTnewfeatures.pkl\",\"w\") as f:\n",
    "    pickle.dump(new_features, f)"
   ]
  },
  {
   "cell_type": "code",
   "execution_count": 21,
   "metadata": {},
   "outputs": [],
   "source": [
    "with open(\"LASTproteinmatrixdict.pkl\",\"w\") as f:\n",
    "    pickle.dump(proteinmatrixdict, f)"
   ]
  },
  {
   "cell_type": "markdown",
   "metadata": {},
   "source": [
    "# Family Level Classification"
   ]
  },
  {
   "cell_type": "code",
   "execution_count": 52,
   "metadata": {},
   "outputs": [],
   "source": [
    "# Encoding labels\n",
    "y = []\n",
    "for pdb_ in labels:\n",
    "    y.append(label_dict[pdb_])\n",
    "a = list(set(y))\n",
    "group2id = dict(zip(a, range(len(a))))\n",
    "y_ = list(map(lambda x: group2id[x], y))"
   ]
  },
  {
   "cell_type": "code",
   "execution_count": 53,
   "metadata": {},
   "outputs": [],
   "source": [
    "y = np.array(y_)"
   ]
  },
  {
   "cell_type": "code",
   "execution_count": 54,
   "metadata": {
    "scrolled": false
   },
   "outputs": [
    {
     "name": "stdout",
     "output_type": "stream",
     "text": [
      "Stratified Cross Validation - 1\n",
      "Random Forest Classifier - Training\n",
      "Random Forest Classifier - Testing\n",
      "Stratified Cross Validation - 2\n",
      "Random Forest Classifier - Training\n",
      "Random Forest Classifier - Testing\n",
      "Stratified Cross Validation - 3\n",
      "Random Forest Classifier - Training\n",
      "Random Forest Classifier - Testing\n",
      "Stratified Cross Validation - 4\n",
      "Random Forest Classifier - Training\n",
      "Random Forest Classifier - Testing\n",
      "Stratified Cross Validation - 5\n",
      "Random Forest Classifier - Training\n",
      "Random Forest Classifier - Testing\n",
      "Stratified Cross Validation - 6\n",
      "Random Forest Classifier - Training\n",
      "Random Forest Classifier - Testing\n",
      "Stratified Cross Validation - 7\n",
      "Random Forest Classifier - Training\n",
      "Random Forest Classifier - Testing\n",
      "Stratified Cross Validation - 8\n",
      "Random Forest Classifier - Training\n",
      "Random Forest Classifier - Testing\n",
      "Stratified Cross Validation - 9\n",
      "Random Forest Classifier - Training\n",
      "Random Forest Classifier - Testing\n",
      "Stratified Cross Validation - 10\n",
      "Random Forest Classifier - Training\n",
      "Random Forest Classifier - Testing\n",
      "Runtime: 00:06:10.24\n",
      "('\\naverage accuracy_score:', 0.6650994575045208)\n",
      "('average precision_score: ', 0.6779046079498159)\n",
      "('average recall_score: ', 0.6650994575045208)\n"
     ]
    }
   ],
   "source": [
    "# Stratified Cross Validation\n",
    "from sklearn.model_selection import StratifiedShuffleSplit\n",
    "\n",
    "sss = StratifiedShuffleSplit(n_splits=10, test_size=0.2, random_state=42)\n",
    "C = 1\n",
    "acc, prec, rec = 0,0,0\n",
    "s_time = time.time()\n",
    "for train_index, test_index in sss.split(new_features, y):\n",
    "    print(\"Stratified Cross Validation - %d\"%C)\n",
    "    X_train, X_test = new_features[train_index], new_features[test_index]\n",
    "    y_train, y_test = y[train_index], y[test_index]\n",
    "    print(\"Random Forest Classifier - Training\")\n",
    "    # Fitting Random Forest Classification to the Training set\n",
    "    classifier = RandomForestClassifier(n_estimators = 100, criterion = 'entropy', random_state = 42)\n",
    "    classifier.fit(X_train, y_train)\n",
    "    # Predicting the Test set results\n",
    "    print(\"Random Forest Classifier - Testing\")\n",
    "    y_pred = classifier.predict(X_test)\n",
    "    acc+=accuracy_score(y_test, y_pred)\n",
    "    prec+=precision_score(y_test, y_pred, average='weighted')\n",
    "    rec+=recall_score(y_test, y_pred, average='weighted')\n",
    "    C+=1\n",
    "end = time.time()\n",
    "nice_time(s_time,end)\n",
    "\n",
    "print(\"\\naverage accuracy_score:\", acc/10)\n",
    "print(\"average precision_score: \", prec/10)\n",
    "print(\"average recall_score: \", rec/10)"
   ]
  },
  {
   "cell_type": "markdown",
   "metadata": {},
   "source": [
    "# Fold Level Classification"
   ]
  },
  {
   "cell_type": "code",
   "execution_count": 55,
   "metadata": {},
   "outputs": [
    {
     "name": "stdout",
     "output_type": "stream",
     "text": [
      "122\n"
     ]
    }
   ],
   "source": [
    "# Encoding labels\n",
    "folds = []\n",
    "for pdb_ in labels:\n",
    "    folds.append(\".\".join(label_dict[pdb_].split(\".\")[:2]))\n",
    "a = list(set(folds))\n",
    "print len(a)\n",
    "group2id = dict(zip(a, range(len(a))))\n",
    "y = np.array(list(map(lambda x: group2id[x], folds)))"
   ]
  },
  {
   "cell_type": "code",
   "execution_count": 56,
   "metadata": {},
   "outputs": [
    {
     "name": "stdout",
     "output_type": "stream",
     "text": [
      "Stratified Cross Validation - 1\n",
      "Random Forest Classifier - Training\n",
      "Random Forest Classifier - Testing\n",
      "Stratified Cross Validation - 2\n",
      "Random Forest Classifier - Training\n",
      "Random Forest Classifier - Testing\n",
      "Stratified Cross Validation - 3\n",
      "Random Forest Classifier - Training\n",
      "Random Forest Classifier - Testing\n",
      "Stratified Cross Validation - 4\n",
      "Random Forest Classifier - Training\n",
      "Random Forest Classifier - Testing\n",
      "Stratified Cross Validation - 5\n",
      "Random Forest Classifier - Training\n",
      "Random Forest Classifier - Testing\n",
      "Stratified Cross Validation - 6\n",
      "Random Forest Classifier - Training\n",
      "Random Forest Classifier - Testing\n",
      "Stratified Cross Validation - 7\n",
      "Random Forest Classifier - Training\n",
      "Random Forest Classifier - Testing\n",
      "Stratified Cross Validation - 8\n",
      "Random Forest Classifier - Training\n",
      "Random Forest Classifier - Testing\n",
      "Stratified Cross Validation - 9\n",
      "Random Forest Classifier - Training\n",
      "Random Forest Classifier - Testing\n",
      "Stratified Cross Validation - 10\n",
      "Random Forest Classifier - Training\n",
      "Random Forest Classifier - Testing\n",
      "Runtime: 00:04:16.60\n",
      "('\\naverage accuracy_score:', 0.7367088607594937)\n",
      "('average precision_score: ', 0.7798740684540952)\n",
      "('average recall_score: ', 0.7367088607594937)\n"
     ]
    }
   ],
   "source": [
    "sss = StratifiedShuffleSplit(n_splits=10, test_size=0.2, random_state=42)\n",
    "C = 1\n",
    "acc, prec, rec = 0,0,0\n",
    "s_time = time.time()\n",
    "for train_index, test_index in sss.split(new_features, y):\n",
    "    print(\"Stratified Cross Validation - %d\"%C)\n",
    "    X_train, X_test = new_features[train_index], new_features[test_index]\n",
    "    y_train, y_test = y[train_index], y[test_index]\n",
    "    print(\"Random Forest Classifier - Training\")\n",
    "    # Fitting Random Forest Classification to the Training set\n",
    "    classifier = RandomForestClassifier(n_estimators = 100, criterion = 'entropy', random_state = 42)\n",
    "    classifier.fit(X_train, y_train)\n",
    "    # Predicting the Test set results\n",
    "    print(\"Random Forest Classifier - Testing\")\n",
    "    y_pred = classifier.predict(X_test)\n",
    "    acc+=accuracy_score(y_test, y_pred)\n",
    "    prec+=precision_score(y_test, y_pred, average='weighted')\n",
    "    rec+=recall_score(y_test, y_pred, average='weighted')\n",
    "    C+=1\n",
    "end = time.time()\n",
    "nice_time(s_time,end)\n",
    "\n",
    "print(\"\\naverage accuracy_score:\", acc/10)\n",
    "print(\"average precision_score: \", prec/10)\n",
    "print(\"average recall_score: \", rec/10)"
   ]
  },
  {
   "cell_type": "markdown",
   "metadata": {},
   "source": [
    "# Class Level Classification"
   ]
  },
  {
   "cell_type": "code",
   "execution_count": 57,
   "metadata": {},
   "outputs": [
    {
     "name": "stdout",
     "output_type": "stream",
     "text": [
      "7\n"
     ]
    }
   ],
   "source": [
    "# Encoding labels\n",
    "folds = []\n",
    "for pdb_ in labels:\n",
    "    folds.append(label_dict[pdb_].split(\".\")[0])\n",
    "a = list(set(folds))\n",
    "print len(a)\n",
    "group2id = dict(zip(a, range(len(a))))\n",
    "y = np.array(list(map(lambda x: group2id[x], folds)))"
   ]
  },
  {
   "cell_type": "code",
   "execution_count": 58,
   "metadata": {},
   "outputs": [
    {
     "name": "stdout",
     "output_type": "stream",
     "text": [
      "Stratified Cross Validation - 1\n",
      "Random Forest Classifier - Training\n",
      "Random Forest Classifier - Testing\n",
      "Stratified Cross Validation - 2\n",
      "Random Forest Classifier - Training\n",
      "Random Forest Classifier - Testing\n",
      "Stratified Cross Validation - 3\n",
      "Random Forest Classifier - Training\n",
      "Random Forest Classifier - Testing\n",
      "Stratified Cross Validation - 4\n",
      "Random Forest Classifier - Training\n",
      "Random Forest Classifier - Testing\n",
      "Stratified Cross Validation - 5\n",
      "Random Forest Classifier - Training\n",
      "Random Forest Classifier - Testing\n",
      "Stratified Cross Validation - 6\n",
      "Random Forest Classifier - Training\n",
      "Random Forest Classifier - Testing\n",
      "Stratified Cross Validation - 7\n",
      "Random Forest Classifier - Training\n",
      "Random Forest Classifier - Testing\n",
      "Stratified Cross Validation - 8\n",
      "Random Forest Classifier - Training\n",
      "Random Forest Classifier - Testing\n",
      "Stratified Cross Validation - 9\n",
      "Random Forest Classifier - Training\n",
      "Random Forest Classifier - Testing\n",
      "Stratified Cross Validation - 10\n",
      "Random Forest Classifier - Training\n",
      "Random Forest Classifier - Testing\n",
      "Runtime: 00:00:53.90\n",
      "('\\naverage accuracy_score:', 0.7728752260397831)\n",
      "('average precision_score: ', 0.8004916999116464)\n",
      "('average recall_score: ', 0.7728752260397831)\n"
     ]
    }
   ],
   "source": [
    "sss = StratifiedShuffleSplit(n_splits=10, test_size=0.2, random_state=42)\n",
    "C = 1\n",
    "acc, prec, rec = 0,0,0\n",
    "s_time = time.time()\n",
    "for train_index, test_index in sss.split(new_features, y):\n",
    "    print(\"Stratified Cross Validation - %d\"%C)\n",
    "    X_train, X_test = new_features[train_index], new_features[test_index]\n",
    "    y_train, y_test = y[train_index], y[test_index]\n",
    "    print(\"Random Forest Classifier - Training\")\n",
    "    # Fitting Random Forest Classification to the Training set\n",
    "    classifier = RandomForestClassifier(n_estimators = 100, criterion = 'entropy', random_state = 42)\n",
    "    classifier.fit(X_train, y_train)\n",
    "    # Predicting the Test set results\n",
    "    print(\"Random Forest Classifier - Testing\")\n",
    "    y_pred = classifier.predict(X_test)\n",
    "    acc+=accuracy_score(y_test, y_pred)\n",
    "    prec+=precision_score(y_test, y_pred, average='weighted')\n",
    "    rec+=recall_score(y_test, y_pred, average='weighted')\n",
    "    C+=1\n",
    "end = time.time()\n",
    "nice_time(s_time,end)\n",
    "\n",
    "print(\"\\naverage accuracy_score:\", acc/10)\n",
    "print(\"average precision_score: \", prec/10)\n",
    "print(\"average recall_score: \", rec/10)"
   ]
  },
  {
   "cell_type": "code",
   "execution_count": null,
   "metadata": {},
   "outputs": [],
   "source": []
  },
  {
   "cell_type": "code",
   "execution_count": null,
   "metadata": {},
   "outputs": [],
   "source": []
  },
  {
   "cell_type": "code",
   "execution_count": null,
   "metadata": {},
   "outputs": [],
   "source": []
  },
  {
   "cell_type": "markdown",
   "metadata": {},
   "source": [
    "# Previous codes"
   ]
  },
  {
   "cell_type": "code",
   "execution_count": 205,
   "metadata": {},
   "outputs": [],
   "source": [
    "X_train, y_train = map(lambda x: x[0], training_set), map(lambda x: x[1], training_set)\n",
    "X_test, y_test = map(lambda x: x[0], test_set), map(lambda x: x[1], test_set)"
   ]
  },
  {
   "cell_type": "code",
   "execution_count": 206,
   "metadata": {},
   "outputs": [
    {
     "data": {
      "text/plain": [
       "RandomForestClassifier(bootstrap=True, class_weight=None, criterion='entropy',\n",
       "            max_depth=None, max_features='auto', max_leaf_nodes=None,\n",
       "            min_impurity_decrease=0.0, min_impurity_split=None,\n",
       "            min_samples_leaf=1, min_samples_split=2,\n",
       "            min_weight_fraction_leaf=0.0, n_estimators=20, n_jobs=1,\n",
       "            oob_score=False, random_state=42, verbose=0, warm_start=False)"
      ]
     },
     "execution_count": 206,
     "metadata": {},
     "output_type": "execute_result"
    }
   ],
   "source": [
    "# Fitting Random Forest Classification to the Training set\n",
    "classifier = RandomForestClassifier(n_estimators = 20, criterion = 'entropy', random_state = 42)\n",
    "classifier.fit(X_train, y_train)"
   ]
  },
  {
   "cell_type": "code",
   "execution_count": 207,
   "metadata": {},
   "outputs": [],
   "source": [
    "# Predicting the Test set results\n",
    "y_pred = classifier.predict(X_test)"
   ]
  },
  {
   "cell_type": "code",
   "execution_count": 208,
   "metadata": {},
   "outputs": [
    {
     "name": "stdout",
     "output_type": "stream",
     "text": [
      "accuracy_score:  0.9310344827586207\n",
      "precision_score:  0.9379310344827586\n",
      "recall_score:  0.9310344827586207\n"
     ]
    }
   ],
   "source": [
    "print \"accuracy_score: \", accuracy_score(y_test, y_pred)\n",
    "print \"precision_score: \", precision_score(y_test, y_pred, average='weighted')\n",
    "print \"recall_score: \", recall_score(y_test, y_pred, average='weighted')"
   ]
  },
  {
   "cell_type": "code",
   "execution_count": 209,
   "metadata": {},
   "outputs": [
    {
     "data": {
      "text/plain": [
       "KNeighborsClassifier(algorithm='auto', leaf_size=30, metric='minkowski',\n",
       "           metric_params=None, n_jobs=1, n_neighbors=3, p=2,\n",
       "           weights='uniform')"
      ]
     },
     "execution_count": 209,
     "metadata": {},
     "output_type": "execute_result"
    }
   ],
   "source": [
    "neigh = KNeighborsClassifier(n_neighbors=3)\n",
    "neigh.fit(X_train, y_train) "
   ]
  },
  {
   "cell_type": "code",
   "execution_count": 210,
   "metadata": {},
   "outputs": [
    {
     "name": "stdout",
     "output_type": "stream",
     "text": [
      "accuracy_score:  0.9655172413793104\n",
      "precision_score:  0.9673321234119782\n",
      "recall_score:  0.9655172413793104\n"
     ]
    }
   ],
   "source": [
    "# Predicting the Test set results\n",
    "y_pred = neigh.predict(X_test)\n",
    "\n",
    "print \"accuracy_score: \", accuracy_score(y_test, y_pred)\n",
    "print \"precision_score: \", precision_score(y_test, y_pred, average='weighted')\n",
    "print \"recall_score: \", recall_score(y_test, y_pred, average='weighted')"
   ]
  },
  {
   "cell_type": "code",
   "execution_count": null,
   "metadata": {},
   "outputs": [],
   "source": []
  }
 ],
 "metadata": {
  "kernelspec": {
   "display_name": "Python 2",
   "language": "python",
   "name": "python2"
  },
  "language_info": {
   "codemirror_mode": {
    "name": "ipython",
    "version": 2
   },
   "file_extension": ".py",
   "mimetype": "text/x-python",
   "name": "python",
   "nbconvert_exporter": "python",
   "pygments_lexer": "ipython2",
   "version": "2.7.15"
  }
 },
 "nbformat": 4,
 "nbformat_minor": 2
}
