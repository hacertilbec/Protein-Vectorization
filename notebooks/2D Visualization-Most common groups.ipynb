{
 "cells": [
  {
   "cell_type": "code",
   "execution_count": 5,
   "metadata": {},
   "outputs": [],
   "source": [
    "import warnings\n",
    "warnings.filterwarnings('ignore')"
   ]
  },
  {
   "cell_type": "code",
   "execution_count": 3,
   "metadata": {},
   "outputs": [],
   "source": [
    "from pys.pdb_utils import *"
   ]
  },
  {
   "cell_type": "code",
   "execution_count": 4,
   "metadata": {},
   "outputs": [],
   "source": [
    "import cv2\n",
    "import matplotlib\n",
    "import matplotlib.pyplot as plt"
   ]
  },
  {
   "cell_type": "code",
   "execution_count": 6,
   "metadata": {},
   "outputs": [],
   "source": [
    "import pickle"
   ]
  },
  {
   "cell_type": "code",
   "execution_count": 19,
   "metadata": {},
   "outputs": [],
   "source": [
    "with open('../Labels/PDBs-class-groups.pkl', 'r') as f:\n",
    "    class_groups = pickle.load(f)\n",
    "with open('../Labels/PDBs-fold-groups.pkl', 'r') as f:\n",
    "    fold_groups = pickle.load(f)\n",
    "with open('../Labels/PDBs-superfamily-groups.pkl', 'r') as f:\n",
    "    superfamily_groups = pickle.load(f)\n",
    "with open('../Labels/PDBs-family-groups.pkl', 'r') as f:\n",
    "    family_groups = pickle.load(f)"
   ]
  },
  {
   "cell_type": "code",
   "execution_count": 24,
   "metadata": {},
   "outputs": [
    {
     "data": {
      "text/plain": [
       "[('a', [1, 2, 3], 3), ('b', [1], 1)]"
      ]
     },
     "execution_count": 24,
     "metadata": {},
     "output_type": "execute_result"
    }
   ],
   "source": [
    "k = [(\"a\",[1,2,3],3),\n",
    "     (\"b\",[1],1)]\n",
    "sorted(k, key = lambda x:x[2],reverse=True)"
   ]
  },
  {
   "cell_type": "code",
   "execution_count": 33,
   "metadata": {},
   "outputs": [],
   "source": [
    "def ProteinsOfCommonGroups(groups,n=4):\n",
    "    counted_ =  map(lambda x: (x[0], x[1], len(x[1]) ),groups.items())\n",
    "    sorted_ = sorted(counted_, key = lambda x:x[2],reverse=True)\n",
    "    selected_ = sorted_[:n]\n",
    "    all_pdbs = []\n",
    "    total_count=0\n",
    "    for group,pdbs,count in selected_:\n",
    "        all_pdbs+=pdbs\n",
    "        total_count+=count\n",
    "        print(group,count)\n",
    "    print(\"total number of pdbs: {s}\".format(s=total_count))\n",
    "    return pdbs"
   ]
  },
  {
   "cell_type": "code",
   "execution_count": 34,
   "metadata": {},
   "outputs": [
    {
     "name": "stdout",
     "output_type": "stream",
     "text": [
      "('c', 4717)\n",
      "('d', 3861)\n",
      "('b', 3551)\n",
      "('a', 2676)\n",
      "total number of pdbs: 14805\n",
      "('b.1', 1022)\n",
      "('c.1', 578)\n",
      "('d.58', 501)\n",
      "('c.37', 407)\n",
      "total number of pdbs: 2508\n",
      "('b.1.1', 618)\n",
      "('c.37.1', 407)\n",
      "('c.47.1', 279)\n",
      "('a.4.5', 253)\n",
      "total number of pdbs: 1557\n",
      "('b.1.1.1', 328)\n",
      "('b.1.1.0', 155)\n",
      "('c.47.1.0', 145)\n",
      "('c.37.1.0', 119)\n",
      "total number of pdbs: 747\n"
     ]
    }
   ],
   "source": [
    "class_4 = ProteinsOfCommonGroups(class_groups,4)\n",
    "fold_4 = ProteinsOfCommonGroups(fold_groups,4)\n",
    "superfamily_4 = ProteinsOfCommonGroups(superfamily_groups,4)\n",
    "family_4 = ProteinsOfCommonGroups(family_groups,4)"
   ]
  },
  {
   "cell_type": "code",
   "execution_count": null,
   "metadata": {},
   "outputs": [],
   "source": []
  },
  {
   "cell_type": "code",
   "execution_count": 7,
   "metadata": {},
   "outputs": [
    {
     "name": "stdout",
     "output_type": "stream",
     "text": [
      "8128\n"
     ]
    }
   ],
   "source": [
    "labels, features = proteinmatrixdict.keys(), proteinmatrixdict.values()\n",
    "input_size = len(features[0])\n",
    "print input_size"
   ]
  },
  {
   "cell_type": "code",
   "execution_count": null,
   "metadata": {},
   "outputs": [],
   "source": []
  },
  {
   "cell_type": "code",
   "execution_count": null,
   "metadata": {},
   "outputs": [],
   "source": []
  },
  {
   "cell_type": "code",
   "execution_count": 24,
   "metadata": {},
   "outputs": [
    {
     "name": "stdout",
     "output_type": "stream",
     "text": [
      "b.1.1.2 ob 15\n",
      "b.1.1.1 or 69\n",
      "b.1.2.1 og 12\n",
      "c.2.1.3 ok 11\n",
      "b.1.1.4 om 13\n"
     ]
    },
    {
     "data": {
      "image/png": "[encoded data removed]",
      "text/plain": [
       "<matplotlib.figure.Figure at 0x1294034d0>"
      ]
     },
     "metadata": {},
     "output_type": "display_data"
    }
   ],
   "source": [
    "fig, ax = plt.subplots(figsize=(20,10))\n",
    "colors = ['ob', 'or', 'og', 'ok', \"om\"]\n",
    "color_ix = 0\n",
    "\n",
    "for group, proteins in selected_groups.items():\n",
    "    color = colors[color_ix]\n",
    "    c=0\n",
    "    print group, color,\n",
    "    for protein in proteins:\n",
    "        try:\n",
    "            f2d = result_dict[protein]\n",
    "            ax.plot(f2d[0], f2d[1], color, markersize=5)\n",
    "            c+=1\n",
    "        except:\n",
    "            continue\n",
    "    print c\n",
    "    color_ix+=1\n",
    "\n",
    "plt.show()"
   ]
  },
  {
   "cell_type": "code",
   "execution_count": null,
   "metadata": {},
   "outputs": [],
   "source": []
  }
 ],
 "metadata": {
  "kernelspec": {
   "display_name": "Python 2",
   "language": "python",
   "name": "python2"
  },
  "language_info": {
   "codemirror_mode": {
    "name": "ipython",
    "version": 2
   },
   "file_extension": ".py",
   "mimetype": "text/x-python",
   "name": "python",
   "nbconvert_exporter": "python",
   "pygments_lexer": "ipython2",
   "version": "2.7.15"
  }
 },
 "nbformat": 4,
 "nbformat_minor": 2
}
